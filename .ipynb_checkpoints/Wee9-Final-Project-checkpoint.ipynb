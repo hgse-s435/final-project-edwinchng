{
 "cells": [
  {
   "cell_type": "markdown",
   "metadata": {},
   "source": [
    "# Final Project"
   ]
  },
  {
   "cell_type": "markdown",
   "metadata": {},
   "source": [
    "## Framing"
   ]
  },
  {
   "cell_type": "markdown",
   "metadata": {},
   "source": [
    "**Introduction**: describe your dataset, and why you're interested in it\n",
    "\n",
    "In this dataset, Kinect sensors captured students' body postures, location, and gestures in a makerspace over the period of a 13-weeks semester, recording nearly half a million observations from 16 students enrolled in a class. \n",
    "\n",
    "I am interested in this dataset because I am currently involved in the next iteration of the Makerspace project and it would be good to gain more familiarity with the dataset by analyzing it in this final project. "
   ]
  },
  {
   "cell_type": "markdown",
   "metadata": {},
   "source": [
    "**Research question(s)**: describe the overall research question of your project\n",
    "\n",
    "Can the activities of students (e.g., using a laser cutter, interacting with someone, etc.) be detected from their location and their body postures in the makerspace?"
   ]
  },
  {
   "cell_type": "markdown",
   "metadata": {},
   "source": [
    "**Hypotheses**:\n",
    "    * Describe 2-3 hypotheses that you're planning to test with your dataset\n",
    "    * Each hypoteses should be based on academic research (cite a paper) and/or background knowledge that you have about the dataset if you've collected it yourself (e.g., if you've conducted interviews)\n",
    "    * Each hypotheses should be formulated as an affirmation (and not a question)\n",
    "    * You can also describe alternative hypotheses, if you think that your results could go either way (but again, have a rationale as for why)\n",
    "\n",
    "    \n",
    "**Hypothesis 1**\n",
    "Using the x-y coordinates of the head joint, the approximate position of students can be inferred, which then informs if they are using tools or working with others within the makerspace. \n",
    "\n",
    "**Hypothesis 2**\n",
    "Students who have joint line of sight with their partners indicates collaboration within the makerspace. \n",
    "\n",
    "**Papers**\n",
    "Hall, E. T. (1966). The Hidden Dimension. Anchor Books.\n",
    "\n",
    "Reilly, J.M. et al. Exploring Collaboration Using Motion Sensors and Multi-Modal Learning Analytics. Educational Data Mining Conference 2018.\n"
   ]
  },
  {
   "cell_type": "markdown",
   "metadata": {},
   "source": [
    "**Results**:\n",
    "    * how are you planning to test each hypothesis? What models are you thinking of using?\n",
    "I am planning to first derive features such as proximity, hand gesturing and line of sight of students to indicate the activities of students within the makerspace. Thereafter, I will train a machine learning algorithm based on these features to predict the activities of students. As a test of the accuracy of the algorithm, I will exclude one week of data during the training stage and test the algorithm later using this test set. For the test set, manual coding using video would be done to denote the activities of the students instead of using the generated features. \n",
    "\n",
    "\n",
    "    * what are the best results you can hope for? Is that interesting / relevant for other researchers?\n",
    "The best results would be a strong correlation between the generated features and student activities. This would be interesting for other researchers as the profiling of student activities could lead to other areas of research such as personalized interventions and quality of social interactions.\n",
    "\n",
    "    * what are implications of your potential findings for practioners? \n",
    "Students activities could be inferred from the generated features without the teachers having to pay continuous attention to each and every student within the makerspace. This presents practioners a way of understanding their students to cater to their individual learning needs."
   ]
  },
  {
   "cell_type": "markdown",
   "metadata": {},
   "source": [
    "**Threads**\n",
    "    * Describe issues that might arise during the analyses above\n",
    "It might be possible that we may not derive features that can successfully predict the activities of students or we may also be looking at the incorrect features of the body movement to inform us of the activities of students.\n",
    "\n",
    "    * Come up with backup plans in case you run into theses issues\n",
    "Think of alternative features of the students' body movement or allow the models to uncover the relevant features without making any prior assumptions."
   ]
  },
  {
   "cell_type": "markdown",
   "metadata": {},
   "source": [
    "## Data Exploration"
   ]
  },
  {
   "cell_type": "markdown",
   "metadata": {},
   "source": [
    "Describe your raw data below; provide definition / explanations for the measures you're using\n",
    "\n",
    "The raw data consists of student information (eg person_id, name), skeletal joint data, facial expressions (eg isTalking) and collection information (eg timestamp, kinect_id). For the purpose of this investigation, we will drop information mostly related to facial expressions as 1) these variables are dichotomous 2) they contain a limited range of facial expressions."
   ]
  },
  {
   "cell_type": "markdown",
   "metadata": {},
   "source": [
    "## Data Cleaning"
   ]
  },
  {
   "cell_type": "markdown",
   "metadata": {},
   "source": [
    "Clean you data in this section, and make sure it's ready to be analyzed for next week!"
   ]
  },
  {
   "cell_type": "code",
   "execution_count": 1,
   "metadata": {},
   "outputs": [
    {
     "name": "stdout",
     "output_type": "stream",
     "text": [
      "['test.csv']\n"
     ]
    }
   ],
   "source": [
    "# import files from directory\n",
    "\n",
    "import os\n",
    "\n",
    "files = []\n",
    "\n",
    "for file in os.listdir('./test'):\n",
    "    if file.endswith('.csv'):\n",
    "        files.append(file)\n",
    "\n",
    "print(files)"
   ]
  },
  {
   "cell_type": "code",
   "execution_count": 2,
   "metadata": {
    "scrolled": false
   },
   "outputs": [
    {
     "data": {
      "text/plain": [
       "['.DS_Store',\n",
       " 'test',\n",
       " 'dataset',\n",
       " 'data_cleaned',\n",
       " 'code',\n",
       " 'Wee9-Final-Project.ipynb',\n",
       " '.ipynb_checkpoints',\n",
       " '.git']"
      ]
     },
     "execution_count": 2,
     "metadata": {},
     "output_type": "execute_result"
    }
   ],
   "source": [
    "# create new folder to store cleaned data\n",
    "\n",
    "os.mkdir('./data_cleaned')\n",
    "os.listdir('./')"
   ]
  },
  {
   "cell_type": "code",
   "execution_count": 3,
   "metadata": {},
   "outputs": [
    {
     "name": "stdout",
     "output_type": "stream",
     "text": [
      "['test.csv']\n"
     ]
    }
   ],
   "source": [
    "# clean data and output as csv to folder\n",
    "\n",
    "import pandas as pd\n",
    "\n",
    "instructor_list = ['sammie','othertwo','otherthree','name','yanni','carlie','billy',\n",
    "                   'othereight','otherfive','otherfour','otherone','otherseven','othersix']\n",
    "\n",
    "# Select rows for timestamp 4/6/2018  4:10:37 PM to 4/6/2018  5:50:30 PM \n",
    "v =[]\n",
    "for i in range(25533,29507): \n",
    "    v.append(i) \n",
    "    \n",
    "for file in os.listdir('./test'):\n",
    "    if file.endswith('.csv'):\n",
    "        file_input = os.path.join('./test',file)\n",
    "        df = pd.read_csv(file_input)\n",
    "        df = df.loc[df['Unnamed: 0'].isin(v)]\n",
    "        df_cleaned = df.drop([df.columns[0],'name_aga_conf','confidence_value','name_aga_freq','frequency','freq_count',\n",
    "                            'isWearingGlasses','isSmiling','leftHandRaised','rightHandRaised',\n",
    "                           'ip','et_timestamp','skeleton','person_id_lifespan','face_detected','timestamp'], axis=1)\n",
    "        df_cleaned.dropna(inplace=True)\n",
    "        \n",
    "        for name in instructor_list:\n",
    "            indexNames = df_cleaned[df_cleaned['weighted_name'] == name].index\n",
    "            df_cleaned.drop(indexNames,inplace=True)\n",
    "        \n",
    "        df_cleaned.reset_index(inplace=True,drop=True)\n",
    "        file_output = os.path.join('./data_cleaned',file)\n",
    "        df_cleaned.to_csv(file_output)\n",
    "        \n",
    "print(os.listdir('./data_cleaned'))"
   ]
  },
  {
   "cell_type": "markdown",
   "metadata": {},
   "source": [
    "## Data Analysis (Preparation)"
   ]
  },
  {
   "cell_type": "code",
   "execution_count": 4,
   "metadata": {},
   "outputs": [
    {
     "name": "stdout",
     "output_type": "stream",
     "text": [
      "['test.csv']\n"
     ]
    }
   ],
   "source": [
    "# import files from directory\n",
    "\n",
    "import os\n",
    "\n",
    "files = []\n",
    "\n",
    "for file in os.listdir('./data_cleaned'):\n",
    "    if file.endswith('.csv'):\n",
    "        files.append(file)\n",
    "\n",
    "print(files)"
   ]
  },
  {
   "cell_type": "code",
   "execution_count": 5,
   "metadata": {},
   "outputs": [
    {
     "data": {
      "text/plain": [
       "['data_analysis',\n",
       " '.DS_Store',\n",
       " 'test',\n",
       " 'dataset',\n",
       " 'data_cleaned',\n",
       " 'code',\n",
       " 'Wee9-Final-Project.ipynb',\n",
       " '.ipynb_checkpoints',\n",
       " '.git']"
      ]
     },
     "execution_count": 5,
     "metadata": {},
     "output_type": "execute_result"
    }
   ],
   "source": [
    "# create new folder to store data for analysis\n",
    "\n",
    "os.mkdir('./data_analysis')\n",
    "os.listdir('./')"
   ]
  },
  {
   "cell_type": "code",
   "execution_count": 6,
   "metadata": {},
   "outputs": [
    {
     "name": "stdout",
     "output_type": "stream",
     "text": [
      "(2181, 31)\n"
     ]
    }
   ],
   "source": [
    "# combine all data into single dataframe\n",
    "\n",
    "import pandas as pd\n",
    "\n",
    "df_raw = pd.DataFrame()\n",
    "\n",
    "for file in files:\n",
    "    file_input = os.path.join('./data_cleaned',file)\n",
    "    df_temp = pd.read_csv(file_input)\n",
    "    df_raw = pd.concat( [df_raw, df_temp], ignore_index=True)\n",
    "    print(df_raw.shape)\n",
    "    \n",
    "\n",
    "df_raw = df_raw.drop('Unnamed: 0', axis=1)"
   ]
  },
  {
   "cell_type": "code",
   "execution_count": 7,
   "metadata": {},
   "outputs": [],
   "source": [
    "# round timestamp\n",
    "\n",
    "df_raw['minute'] = pd.to_datetime(df_raw['timeframe']).dt.round('min')"
   ]
  },
  {
   "cell_type": "code",
   "execution_count": 8,
   "metadata": {},
   "outputs": [
    {
     "name": "stdout",
     "output_type": "stream",
     "text": [
      "['pat', 'dan', 'eva', 'mia', 'ben', 'ken', 'zoe', 'sue', 'kim']\n",
      "9\n"
     ]
    }
   ],
   "source": [
    "# number of students\n",
    "\n",
    "master_namelist = ['ann', 'ryan', 'ken', 'pat', 'liz', 'zoe', 'kim', 'eva', \n",
    "                   'ron', 'meg', 'dan', 'sue', 'ben', 'andreas', 'mia', \n",
    "                   'bea', 'amy', 'lucia', 'noe', 'tonya']\n",
    "\n",
    "namelist = set(df_raw['weighted_name'])\n",
    "namelist = list(namelist)\n",
    "print(namelist)\n",
    "\n",
    "n = len(namelist)\n",
    "print(n)"
   ]
  },
  {
   "cell_type": "code",
   "execution_count": 9,
   "metadata": {},
   "outputs": [],
   "source": [
    "# output df as csv\n",
    "\n",
    "file_output = os.path.join('./data_analysis','df_raw.csv')\n",
    "df_raw.to_csv(file_output)"
   ]
  },
  {
   "cell_type": "markdown",
   "metadata": {},
   "source": [
    "## Data Analysis (Proximity)"
   ]
  },
  {
   "cell_type": "code",
   "execution_count": 10,
   "metadata": {},
   "outputs": [
    {
     "name": "stdout",
     "output_type": "stream",
     "text": [
      "['df_raw.csv']\n"
     ]
    }
   ],
   "source": [
    "# import files from directory\n",
    "\n",
    "import os\n",
    "\n",
    "files_a = []\n",
    "\n",
    "for file in os.listdir('./data_analysis'):\n",
    "    if file.endswith('.csv'):\n",
    "        files_a.append(file)\n",
    "\n",
    "print(files_a)"
   ]
  },
  {
   "cell_type": "code",
   "execution_count": 11,
   "metadata": {},
   "outputs": [
    {
     "name": "stdout",
     "output_type": "stream",
     "text": [
      "(2181, 31)\n"
     ]
    }
   ],
   "source": [
    "# combine all data into single dataframe\n",
    "\n",
    "import pandas as pd\n",
    "\n",
    "df_raw = pd.DataFrame()\n",
    "\n",
    "for file in files_a:\n",
    "    file_input = os.path.join('./data_analysis',file)\n",
    "    df_temp = pd.read_csv(file_input)\n",
    "    df_raw = pd.concat( [df_raw, df_temp], ignore_index=True)\n",
    "    df_raw = df_raw.drop('Unnamed: 0', axis=1)\n",
    "    print(df_raw.shape)"
   ]
  },
  {
   "cell_type": "code",
   "execution_count": 12,
   "metadata": {},
   "outputs": [],
   "source": [
    "# function to calculate euclidean distance \n",
    "\n",
    "import numpy as np\n",
    "\n",
    "def map_distance(x1,y1,x2,y2):\n",
    "    dist = np.sqrt((x1-x2)**2+(y1-y2)**2)\n",
    "    return dist"
   ]
  },
  {
   "cell_type": "code",
   "execution_count": 13,
   "metadata": {
    "scrolled": true
   },
   "outputs": [],
   "source": [
    "# create df_pos_function to generate proximity feature\n",
    "\n",
    "def df_pos_function(df_raw,dist,namelist):\n",
    "    laser_coords = [1.50,0.75]\n",
    "    printer_coords = [3.75,0.75]\n",
    "    tools = ['laser_cutter', '3D_printer']\n",
    "    activities = namelist + tools \n",
    "    minute_index = list(set(df_raw['minute']))\n",
    "\n",
    "    df_pos = df_raw.groupby(['minute','weighted_name'])['Head_x','Head_y', \n",
    "                                                        'movementAmount','isTalking',\n",
    "                                                        'headAngle','Head_z', \n",
    "                                                        'ShoulderLeft_x', 'ShoulderLeft_y', 'ShoulderLeft_z', \n",
    "                                                        'ShoulderRight_x','ShoulderRight_y', 'ShoulderRight_z', \n",
    "                                                        'ElbowLeft_x', 'ElbowLeft_y', 'ElbowLeft_z', \n",
    "                                                        'ElbowRight_x', 'ElbowRight_y', 'ElbowRight_z',\n",
    "                                                        'HandLeft_x', 'HandLeft_y', 'HandLeft_z', \n",
    "                                                        'HandRight_x', 'HandRight_y', 'HandRight_z', \n",
    "                                                        'leanVector_x', 'leanVector_z'].mean()\n",
    "\n",
    "    df_pos = pd.concat([df_pos, pd.DataFrame(columns = activities)],axis=1)\n",
    "    df_pos.fillna(0,inplace=True)\n",
    "\n",
    "    for i in range(len(minute_index)):\n",
    "        time = minute_index[i]\n",
    "        df_temp = df_pos.xs(minute_index[i])\n",
    "        df_temp = df_temp.reset_index()\n",
    "\n",
    "    # Activity\n",
    "        for j in range(df_temp.shape[0]-1):\n",
    "            c = df_temp.shape[0]-j-1\n",
    "            for k in range(c):\n",
    "                d = k + j + 1\n",
    "                name1 = df_temp.iloc[j][0]\n",
    "                name2 = df_temp.iloc[d][0]\n",
    "                name1_x = df_temp.iloc[j][1]\n",
    "                name1_y = df_temp.iloc[j][2]\n",
    "                name2_x = df_temp.iloc[d][1]\n",
    "                name2_y = df_temp.iloc[d][2]\n",
    "\n",
    "                # Collaboration\n",
    "                if map_distance(name1_x,name1_y,name2_x,name2_y) <= dist:\n",
    "                    df_pos.loc[(time,name1),name2] = 1\n",
    "                    df_pos.loc[(time,name2),name1] = 1\n",
    "\n",
    "                # Tool Use\n",
    "                if map_distance(name1_x,name1_y,laser_coords[0],laser_coords[1]) <= dist:\n",
    "                    df_pos.loc[(time,name1),'laser_cutter'] = 1\n",
    "                if map_distance(name1_x,name1_y,printer_coords[0],printer_coords[1]) <= dist:\n",
    "                    df_pos.loc[(time,name1),'3D_printer'] = 1\n",
    "    return df_pos"
   ]
  },
  {
   "cell_type": "code",
   "execution_count": 14,
   "metadata": {},
   "outputs": [],
   "source": [
    "# output df_pos as csv\n",
    "\n",
    "dist = 1.5\n",
    "df_pos = df_pos_function(df_raw,dist,master_namelist)\n",
    "file_output = os.path.join('./data_analysis','df_pos.csv')\n",
    "df_pos.to_csv(file_output)"
   ]
  },
  {
   "cell_type": "markdown",
   "metadata": {},
   "source": [
    "## Data Analysis (Building Models)"
   ]
  },
  {
   "cell_type": "code",
   "execution_count": 15,
   "metadata": {},
   "outputs": [
    {
     "name": "stdout",
     "output_type": "stream",
     "text": [
      "(195, 51)\n"
     ]
    }
   ],
   "source": [
    "# select data for model building\n",
    "\n",
    "file = '1.5_df_pos(code).csv'\n",
    "file_input = os.path.join('./code',file)\n",
    "df_analysis = pd.read_csv(file_input)\n",
    "print(df_analysis.shape)\n",
    "\n",
    "selected = ['Head_x', 'Head_y','movementAmount','isTalking', 'headAngle', 'Head_z', \n",
    "            'ShoulderLeft_x', 'ShoulderLeft_y','ShoulderLeft_z', \n",
    "            'ShoulderRight_x', 'ShoulderRight_y','ShoulderRight_z', \n",
    "            'ElbowLeft_x', 'ElbowLeft_y', 'ElbowLeft_z',\n",
    "            'ElbowRight_x', 'ElbowRight_y', 'ElbowRight_z', \n",
    "            'HandLeft_x','HandLeft_y', 'HandLeft_z', \n",
    "            'HandRight_x', 'HandRight_y', 'HandRight_z',\n",
    "            'leanVector_x', 'leanVector_z', \n",
    "            'laser_cutter','3D_printer'] + master_namelist\n",
    "\n",
    "X = df_analysis[selected].values\n",
    "\n",
    "y = df_analysis['activity'].values\n",
    "dummy_y = pd.get_dummies(df_analysis['activity'])"
   ]
  },
  {
   "cell_type": "code",
   "execution_count": 16,
   "metadata": {
    "scrolled": false
   },
   "outputs": [
    {
     "name": "stdout",
     "output_type": "stream",
     "text": [
      "0.6911764705882353\n",
      "0.7288135593220338\n",
      "[[ 0  0  0  0  0  0]\n",
      " [ 0  0  0  0  2  0]\n",
      " [ 0  0  0  0  2  0]\n",
      " [ 2  0  0  0  4  0]\n",
      " [ 2  0  0  0 42  1]\n",
      " [ 0  0  0  0  3  1]]\n",
      "              precision    recall  f1-score   support\n",
      "\n",
      "        cben       0.00      0.00      0.00         0\n",
      "        ckim       0.00      0.00      0.00         2\n",
      "        cmia       0.00      0.00      0.00         2\n",
      "        czoe       0.00      0.00      0.00         6\n",
      "           i       0.79      0.93      0.86        45\n",
      "    tprinter       0.50      0.25      0.33         4\n",
      "\n",
      "   micro avg       0.73      0.73      0.73        59\n",
      "   macro avg       0.22      0.20      0.20        59\n",
      "weighted avg       0.64      0.73      0.68        59\n",
      "\n"
     ]
    },
    {
     "name": "stderr",
     "output_type": "stream",
     "text": [
      "/anaconda3/lib/python3.7/site-packages/sklearn/metrics/classification.py:1143: UndefinedMetricWarning: Precision and F-score are ill-defined and being set to 0.0 in labels with no predicted samples.\n",
      "  'precision', 'predicted', average, warn_for)\n",
      "/anaconda3/lib/python3.7/site-packages/sklearn/metrics/classification.py:1145: UndefinedMetricWarning: Recall and F-score are ill-defined and being set to 0.0 in labels with no true samples.\n",
      "  'recall', 'true', average, warn_for)\n"
     ]
    }
   ],
   "source": [
    "# Supervised Learning: KNeighborsClassifier\n",
    "\n",
    "from sklearn.neighbors import KNeighborsClassifier\n",
    "from sklearn.model_selection import train_test_split\n",
    "from sklearn.metrics import classification_report\n",
    "from sklearn.metrics import confusion_matrix\n",
    "\n",
    "X_train, X_test, y_train, y_test = train_test_split(X, y, test_size = 0.3, random_state=42)\n",
    "\n",
    "knn = KNeighborsClassifier(n_neighbors=n)\n",
    "\n",
    "knn.fit(X_train,y_train)\n",
    "\n",
    "y_pred = knn.predict(X_test)\n",
    "\n",
    "print(knn.score(X_train, y_train))\n",
    "print(knn.score(X_test, y_test))\n",
    "print(confusion_matrix(y_test, y_pred))\n",
    "print(classification_report(y_test, y_pred))"
   ]
  },
  {
   "cell_type": "markdown",
   "metadata": {},
   "source": [
    "## Data Prediction"
   ]
  },
  {
   "cell_type": "code",
   "execution_count": 17,
   "metadata": {},
   "outputs": [
    {
     "name": "stdout",
     "output_type": "stream",
     "text": [
      "['6.csv', '7.csv', '5.csv', '4.csv', '3.csv', '2.csv', '10.csv', '11.csv', '13.csv', '12.csv', '9.csv']\n"
     ]
    }
   ],
   "source": [
    "# import files from directory\n",
    "\n",
    "import os\n",
    "\n",
    "files = []\n",
    "\n",
    "for file in os.listdir('./dataset'):\n",
    "    if file.endswith('.csv'):\n",
    "        files.append(file)\n",
    "\n",
    "print(files)"
   ]
  },
  {
   "cell_type": "code",
   "execution_count": 18,
   "metadata": {},
   "outputs": [
    {
     "data": {
      "text/plain": [
       "['data_analysis',\n",
       " '.DS_Store',\n",
       " 'test',\n",
       " 'dataset',\n",
       " 'data_cleaned',\n",
       " 'code',\n",
       " 'data_prediction',\n",
       " 'Wee9-Final-Project.ipynb',\n",
       " '.ipynb_checkpoints',\n",
       " '.git']"
      ]
     },
     "execution_count": 18,
     "metadata": {},
     "output_type": "execute_result"
    }
   ],
   "source": [
    "# create new folder to store predicted data\n",
    "\n",
    "os.mkdir('./data_prediction')\n",
    "os.listdir('./')"
   ]
  },
  {
   "cell_type": "code",
   "execution_count": 19,
   "metadata": {
    "scrolled": true
   },
   "outputs": [
    {
     "name": "stdout",
     "output_type": "stream",
     "text": [
      "(98056, 30)\n",
      "(129868, 30)\n",
      "(145990, 30)\n",
      "(176603, 30)\n",
      "(190476, 30)\n",
      "(235451, 30)\n",
      "(295929, 30)\n",
      "(345678, 30)\n",
      "(388545, 30)\n",
      "(411932, 30)\n",
      "(422557, 30)\n"
     ]
    }
   ],
   "source": [
    "# clean data and combine into single dataframe\n",
    "\n",
    "import pandas as pd\n",
    "\n",
    "instructor_list = ['sammie','othertwo','otherthree','name','yanni','carlie','billy',\n",
    "                   'othereight','otherfive','otherfour','otherone','otherseven','othersix']\n",
    "\n",
    "df = pd.DataFrame()\n",
    "\n",
    "for file in files:\n",
    "    file_input = os.path.join('./dataset',file)\n",
    "    df_temp = pd.read_csv(file_input)\n",
    "    df_cleaned = df_temp.drop([df_temp.columns[0],'name_aga_conf','confidence_value','name_aga_freq','frequency','freq_count',\n",
    "                            'isWearingGlasses','isSmiling','leftHandRaised','rightHandRaised',\n",
    "                           'ip','et_timestamp','skeleton','person_id_lifespan','face_detected','timestamp'], axis=1)\n",
    "    \n",
    "    df_cleaned.dropna(inplace=True)\n",
    "        \n",
    "    for name in instructor_list:\n",
    "        indexNames = df_cleaned[df_cleaned['weighted_name'] == name].index\n",
    "        df_cleaned.drop(indexNames,inplace=True)\n",
    "        \n",
    "    df_cleaned.reset_index(inplace=True,drop=True)\n",
    "    df = pd.concat( [df, df_cleaned], ignore_index=True)\n",
    "    print(df.shape)\n",
    "\n",
    "# round timestamp\n",
    "df['minute'] = pd.to_datetime(df['timeframe']).dt.round('min')\n",
    "\n",
    "file_output = os.path.join('./data_prediction','df0.csv')\n",
    "df.to_csv(file_output)"
   ]
  },
  {
   "cell_type": "code",
   "execution_count": 20,
   "metadata": {},
   "outputs": [],
   "source": [
    "# Generate proximity feature\n",
    "\n",
    "dist = 1.5\n",
    "df_pos = df_pos_function(df,dist,master_namelist)"
   ]
  },
  {
   "cell_type": "code",
   "execution_count": 21,
   "metadata": {},
   "outputs": [],
   "source": [
    "# Prediction\n",
    "\n",
    "selected = ['Head_x', 'Head_y','movementAmount','isTalking', 'headAngle', 'Head_z', \n",
    "            'ShoulderLeft_x', 'ShoulderLeft_y','ShoulderLeft_z', \n",
    "            'ShoulderRight_x', 'ShoulderRight_y','ShoulderRight_z', \n",
    "            'ElbowLeft_x', 'ElbowLeft_y', 'ElbowLeft_z',\n",
    "            'ElbowRight_x', 'ElbowRight_y', 'ElbowRight_z', \n",
    "            'HandLeft_x','HandLeft_y', 'HandLeft_z', \n",
    "            'HandRight_x', 'HandRight_y', 'HandRight_z',\n",
    "            'leanVector_x', 'leanVector_z', \n",
    "            'laser_cutter','3D_printer'] + master_namelist\n",
    "\n",
    "X = df_pos[selected].values\n",
    "\n",
    "y_pred = knn.predict(X)"
   ]
  },
  {
   "cell_type": "code",
   "execution_count": 22,
   "metadata": {},
   "outputs": [],
   "source": [
    "# output predicted data\n",
    "\n",
    "df_pos['activity'] = y_pred\n",
    "file_output = os.path.join('./data_prediction','df_predicted.csv')\n",
    "df_pos.to_csv(file_output)"
   ]
  },
  {
   "cell_type": "markdown",
   "metadata": {},
   "source": [
    "## Data Visualization"
   ]
  },
  {
   "cell_type": "code",
   "execution_count": 1,
   "metadata": {},
   "outputs": [],
   "source": [
    "# prepare dataframe for visualization\n",
    "\n",
    "import os\n",
    "import pandas as pd\n",
    "\n",
    "file = 'df_predicted.csv'\n",
    "file_input = os.path.join('./data_prediction',file)\n",
    "df_pred = pd.read_csv(file_input)\n",
    "\n",
    "df_graph = pd.DataFrame()\n",
    "df_graph['minute'] = pd.to_datetime(df_pred['minute'])\n",
    "df_graph['date'] = df_graph['minute'].dt.date\n",
    "df_graph['time'] = 1\n",
    "df_graph['weighted_name'] = df_pred['weighted_name']\n",
    "df_graph['activity'] = df_pred['activity']\n",
    "\n",
    "df_plot = df_graph.groupby(['weighted_name','date','activity'])['time'].sum()\n",
    "file_output = os.path.join('./data_prediction','df_plot.csv')\n",
    "df_plot.to_csv(file_output)"
   ]
  },
  {
   "cell_type": "code",
   "execution_count": 1,
   "metadata": {},
   "outputs": [],
   "source": [
    "# select data for plotting\n",
    "\n",
    "import os\n",
    "import pandas as pd\n",
    "\n",
    "file = 'df_plot.csv'\n",
    "file_input = os.path.join('./data_prediction',file)\n",
    "df_plot = pd.read_csv(file_input,header=None)\n",
    "df_plot.columns = ['name','date','activity','time']"
   ]
  },
  {
   "cell_type": "code",
   "execution_count": 70,
   "metadata": {
    "scrolled": true
   },
   "outputs": [
    {
     "data": {
      "image/png": "[encoded data removed]",
      "text/plain": [
       "<Figure size 432x288 with 2 Axes>"
      ]
     },
     "metadata": {},
     "output_type": "display_data"
    }
   ],
   "source": [
    "# Co-occurrence matrix\n",
    "\n",
    "import seaborn as sns; sns.set()\n",
    "\n",
    "df_collaboration = df_plot.groupby(['name','activity'])['time'].sum()\n",
    "\n",
    "list_of_names = list(set(df_plot['name']))\n",
    "list_of_activity = list(set(df_plot['activity']))\n",
    "\n",
    "df_collab = pd.concat([pd.DataFrame([i], columns=['A']) for i in range(len(list_of_names))],ignore_index=True)\n",
    "df_collab.index = list_of_names\n",
    "df_collab.drop(['A'], axis=1, inplace=True)\n",
    "for activity in list_of_activity:\n",
    "    df_collab[activity] = 0\n",
    "\n",
    "for name in list_of_names:\n",
    "    for activity in list_of_activity:\n",
    "        try:\n",
    "            df_collab.loc[name,activity]=df_collaboration.loc[name,activity]\n",
    "        except Exception:\n",
    "            pass\n",
    "\n",
    "ax = sns.heatmap(df_collab, vmin=0, vmax=max(df_plot['time']), center=df_collab.loc['eva', 'cben'])"
   ]
  },
  {
   "cell_type": "code",
   "execution_count": 101,
   "metadata": {
    "scrolled": true
   },
   "outputs": [
    {
     "data": {
      "application/vnd.plotly.v1+json": {
       "config": {
        "linkText": "Export to plot.ly",
        "plotlyServerURL": "https://plot.ly",
        "responsive": true,
        "showLink": false
       },
       "data": [
        {
         "hoverlabel": {
          "namelength": 0
         },
         "hovertemplate": "name=amy<br>date=2018-02-04<br>activity=%{x}<br>time=%{y}",
         "legendgroup": "name=amy",
         "marker": {
          "color": "#636efa",
          "symbol": "circle"
         },
         "mode": "markers",
         "name": "name=amy",
         "showlegend": true,
         "type": "scatter",
         "uid": "ce4604b6-9180-45c1-b712-7a8852168d9f",
         "x": [
          "cben",
          "csue",
          "i",
          "tprinter"
         ],
         "xaxis": "x",
         "y": [
          4,
          1,
          52,
          1
         ],
         "yaxis": "y"
        },
        {
         "hoverlabel": {
          "namelength": 0
         },
         "hovertemplate": "name=zoe<br>date=2018-02-04<br>activity=%{x}<br>time=%{y}",
         "legendgroup": "name=zoe",
         "marker": {
          "color": "#EF553B",
          "symbol": "circle"
         },
         "mode": "markers",
         "name": "name=zoe",
         "showlegend": true,
         "type": "scatter",
         "uid": "14ccfc80-550d-4174-a748-077089c1b9e9",
         "x": [
          "i"
         ],
         "xaxis": "x2",
         "y": [
          2
         ],
         "yaxis": "y"
        }
       ],
       "frames": [
        {
         "data": [
          {
           "hoverlabel": {
            "namelength": 0
           },
           "hovertemplate": "name=amy<br>date=2018-02-04<br>activity=%{x}<br>time=%{y}",
           "legendgroup": "name=amy",
           "marker": {
            "color": "#636efa",
            "symbol": "circle"
           },
           "mode": "markers",
           "name": "name=amy",
           "showlegend": true,
           "type": "scatter",
           "x": [
            "cben",
            "csue",
            "i",
            "tprinter"
           ],
           "xaxis": "x",
           "y": [
            4,
            1,
            52,
            1
           ],
           "yaxis": "y"
          },
          {
           "hoverlabel": {
            "namelength": 0
           },
           "hovertemplate": "name=zoe<br>date=2018-02-04<br>activity=%{x}<br>time=%{y}",
           "legendgroup": "name=zoe",
           "marker": {
            "color": "#EF553B",
            "symbol": "circle"
           },
           "mode": "markers",
           "name": "name=zoe",
           "showlegend": true,
           "type": "scatter",
           "x": [
            "i"
           ],
           "xaxis": "x2",
           "y": [
            2
           ],
           "yaxis": "y"
          }
         ],
         "name": "2018-02-04"
        },
        {
         "data": [
          {
           "hoverlabel": {
            "namelength": 0
           },
           "hovertemplate": "name=amy<br>date=2018-02-05<br>activity=%{x}<br>time=%{y}",
           "legendgroup": "name=amy",
           "marker": {
            "color": "#636efa",
            "symbol": "circle"
           },
           "mode": "markers",
           "name": "name=amy",
           "showlegend": true,
           "type": "scatter",
           "x": [
            "cben",
            "i"
           ],
           "xaxis": "x",
           "y": [
            1,
            3
           ],
           "yaxis": "y"
          },
          {
           "hoverlabel": {
            "namelength": 0
           },
           "hovertemplate": "name=zoe<br>date=2018-02-05<br>activity=%{x}<br>time=%{y}",
           "legendgroup": "name=zoe",
           "marker": {
            "color": "#EF553B",
            "symbol": "circle"
           },
           "mode": "markers",
           "name": "name=zoe",
           "showlegend": true,
           "type": "scatter",
           "x": [
            "cben",
            "i"
           ],
           "xaxis": "x2",
           "y": [
            1,
            5
           ],
           "yaxis": "y"
          }
         ],
         "name": "2018-02-05"
        },
        {
         "data": [
          {
           "hoverlabel": {
            "namelength": 0
           },
           "hovertemplate": "name=amy<br>date=2018-02-06<br>activity=%{x}<br>time=%{y}",
           "legendgroup": "name=amy",
           "marker": {
            "color": "#636efa",
            "symbol": "circle"
           },
           "mode": "markers",
           "name": "name=amy",
           "showlegend": true,
           "type": "scatter",
           "x": [
            "cben",
            "i"
           ],
           "xaxis": "x",
           "y": [
            3,
            59
           ],
           "yaxis": "y"
          },
          {
           "hoverlabel": {
            "namelength": 0
           },
           "hovertemplate": "name=zoe<br>date=2018-02-06<br>activity=%{x}<br>time=%{y}",
           "legendgroup": "name=zoe",
           "marker": {
            "color": "#EF553B",
            "symbol": "circle"
           },
           "mode": "markers",
           "name": "name=zoe",
           "showlegend": true,
           "type": "scatter",
           "x": [
            "cben",
            "i"
           ],
           "xaxis": "x2",
           "y": [
            3,
            95
           ],
           "yaxis": "y"
          }
         ],
         "name": "2018-02-06"
        },
        {
         "data": [
          {
           "hoverlabel": {
            "namelength": 0
           },
           "hovertemplate": "name=amy<br>date=2018-02-08<br>activity=%{x}<br>time=%{y}",
           "legendgroup": "name=amy",
           "marker": {
            "color": "#636efa",
            "symbol": "circle"
           },
           "mode": "markers",
           "name": "name=amy",
           "showlegend": true,
           "type": "scatter",
           "x": [
            "i",
            "tprinter"
           ],
           "xaxis": "x",
           "y": [
            2,
            1
           ],
           "yaxis": "y"
          }
         ],
         "name": "2018-02-08"
        },
        {
         "data": [
          {
           "hoverlabel": {
            "namelength": 0
           },
           "hovertemplate": "name=amy<br>date=2018-02-22<br>activity=%{x}<br>time=%{y}",
           "legendgroup": "name=amy",
           "marker": {
            "color": "#636efa",
            "symbol": "circle"
           },
           "mode": "markers",
           "name": "name=amy",
           "showlegend": true,
           "type": "scatter",
           "x": [
            "i"
           ],
           "xaxis": "x",
           "y": [
            1
           ],
           "yaxis": "y"
          }
         ],
         "name": "2018-02-22"
        },
        {
         "data": [
          {
           "hoverlabel": {
            "namelength": 0
           },
           "hovertemplate": "name=amy<br>date=2018-02-26<br>activity=%{x}<br>time=%{y}",
           "legendgroup": "name=amy",
           "marker": {
            "color": "#636efa",
            "symbol": "circle"
           },
           "mode": "markers",
           "name": "name=amy",
           "showlegend": true,
           "type": "scatter",
           "x": [
            "i"
           ],
           "xaxis": "x",
           "y": [
            10
           ],
           "yaxis": "y"
          }
         ],
         "name": "2018-02-26"
        },
        {
         "data": [
          {
           "hoverlabel": {
            "namelength": 0
           },
           "hovertemplate": "name=amy<br>date=2018-02-27<br>activity=%{x}<br>time=%{y}",
           "legendgroup": "name=amy",
           "marker": {
            "color": "#636efa",
            "symbol": "circle"
           },
           "mode": "markers",
           "name": "name=amy",
           "showlegend": true,
           "type": "scatter",
           "x": [
            "i"
           ],
           "xaxis": "x",
           "y": [
            2
           ],
           "yaxis": "y"
          },
          {
           "hoverlabel": {
            "namelength": 0
           },
           "hovertemplate": "name=zoe<br>date=2018-02-27<br>activity=%{x}<br>time=%{y}",
           "legendgroup": "name=zoe",
           "marker": {
            "color": "#EF553B",
            "symbol": "circle"
           },
           "mode": "markers",
           "name": "name=zoe",
           "showlegend": true,
           "type": "scatter",
           "x": [
            "i"
           ],
           "xaxis": "x2",
           "y": [
            8
           ],
           "yaxis": "y"
          }
         ],
         "name": "2018-02-27"
        },
        {
         "data": [
          {
           "hoverlabel": {
            "namelength": 0
           },
           "hovertemplate": "name=amy<br>date=2018-02-28<br>activity=%{x}<br>time=%{y}",
           "legendgroup": "name=amy",
           "marker": {
            "color": "#636efa",
            "symbol": "circle"
           },
           "mode": "markers",
           "name": "name=amy",
           "showlegend": true,
           "type": "scatter",
           "x": [
            "cben",
            "i"
           ],
           "xaxis": "x",
           "y": [
            5,
            75
           ],
           "yaxis": "y"
          },
          {
           "hoverlabel": {
            "namelength": 0
           },
           "hovertemplate": "name=zoe<br>date=2018-02-28<br>activity=%{x}<br>time=%{y}",
           "legendgroup": "name=zoe",
           "marker": {
            "color": "#EF553B",
            "symbol": "circle"
           },
           "mode": "markers",
           "name": "name=zoe",
           "showlegend": true,
           "type": "scatter",
           "x": [
            "i"
           ],
           "xaxis": "x2",
           "y": [
            3
           ],
           "yaxis": "y"
          }
         ],
         "name": "2018-02-28"
        },
        {
         "data": [
          {
           "hoverlabel": {
            "namelength": 0
           },
           "hovertemplate": "name=amy<br>date=2018-03-05<br>activity=%{x}<br>time=%{y}",
           "legendgroup": "name=amy",
           "marker": {
            "color": "#636efa",
            "symbol": "circle"
           },
           "mode": "markers",
           "name": "name=amy",
           "showlegend": true,
           "type": "scatter",
           "x": [
            "i"
           ],
           "xaxis": "x",
           "y": [
            25
           ],
           "yaxis": "y"
          }
         ],
         "name": "2018-03-05"
        },
        {
         "data": [
          {
           "hoverlabel": {
            "namelength": 0
           },
           "hovertemplate": "name=amy<br>date=2018-03-06<br>activity=%{x}<br>time=%{y}",
           "legendgroup": "name=amy",
           "marker": {
            "color": "#636efa",
            "symbol": "circle"
           },
           "mode": "markers",
           "name": "name=amy",
           "showlegend": true,
           "type": "scatter",
           "x": [
            "cben",
            "csue",
            "i"
           ],
           "xaxis": "x",
           "y": [
            7,
            2,
            255
           ],
           "yaxis": "y"
          },
          {
           "hoverlabel": {
            "namelength": 0
           },
           "hovertemplate": "name=zoe<br>date=2018-03-06<br>activity=%{x}<br>time=%{y}",
           "legendgroup": "name=zoe",
           "marker": {
            "color": "#EF553B",
            "symbol": "circle"
           },
           "mode": "markers",
           "name": "name=zoe",
           "showlegend": true,
           "type": "scatter",
           "x": [
            "i"
           ],
           "xaxis": "x2",
           "y": [
            9
           ],
           "yaxis": "y"
          }
         ],
         "name": "2018-03-06"
        },
        {
         "data": [
          {
           "hoverlabel": {
            "namelength": 0
           },
           "hovertemplate": "name=amy<br>date=2018-03-07<br>activity=%{x}<br>time=%{y}",
           "legendgroup": "name=amy",
           "marker": {
            "color": "#636efa",
            "symbol": "circle"
           },
           "mode": "markers",
           "name": "name=amy",
           "showlegend": true,
           "type": "scatter",
           "x": [
            "cben",
            "i"
           ],
           "xaxis": "x",
           "y": [
            1,
            35
           ],
           "yaxis": "y"
          },
          {
           "hoverlabel": {
            "namelength": 0
           },
           "hovertemplate": "name=zoe<br>date=2018-03-07<br>activity=%{x}<br>time=%{y}",
           "legendgroup": "name=zoe",
           "marker": {
            "color": "#EF553B",
            "symbol": "circle"
           },
           "mode": "markers",
           "name": "name=zoe",
           "showlegend": true,
           "type": "scatter",
           "x": [
            "i",
            "tprinter"
           ],
           "xaxis": "x2",
           "y": [
            42,
            3
           ],
           "yaxis": "y"
          }
         ],
         "name": "2018-03-07"
        },
        {
         "data": [
          {
           "hoverlabel": {
            "namelength": 0
           },
           "hovertemplate": "name=amy<br>date=2018-03-08<br>activity=%{x}<br>time=%{y}",
           "legendgroup": "name=amy",
           "marker": {
            "color": "#636efa",
            "symbol": "circle"
           },
           "mode": "markers",
           "name": "name=amy",
           "showlegend": true,
           "type": "scatter",
           "x": [
            "i"
           ],
           "xaxis": "x",
           "y": [
            24
           ],
           "yaxis": "y"
          },
          {
           "hoverlabel": {
            "namelength": 0
           },
           "hovertemplate": "name=zoe<br>date=2018-03-08<br>activity=%{x}<br>time=%{y}",
           "legendgroup": "name=zoe",
           "marker": {
            "color": "#EF553B",
            "symbol": "circle"
           },
           "mode": "markers",
           "name": "name=zoe",
           "showlegend": true,
           "type": "scatter",
           "x": [
            "cben",
            "i"
           ],
           "xaxis": "x2",
           "y": [
            1,
            83
           ],
           "yaxis": "y"
          }
         ],
         "name": "2018-03-08"
        },
        {
         "data": [
          {
           "hoverlabel": {
            "namelength": 0
           },
           "hovertemplate": "name=amy<br>date=2018-03-09<br>activity=%{x}<br>time=%{y}",
           "legendgroup": "name=amy",
           "marker": {
            "color": "#636efa",
            "symbol": "circle"
           },
           "mode": "markers",
           "name": "name=amy",
           "showlegend": true,
           "type": "scatter",
           "x": [
            "i"
           ],
           "xaxis": "x",
           "y": [
            1
           ],
           "yaxis": "y"
          }
         ],
         "name": "2018-03-09"
        },
        {
         "data": [
          {
           "hoverlabel": {
            "namelength": 0
           },
           "hovertemplate": "name=amy<br>date=2018-03-16<br>activity=%{x}<br>time=%{y}",
           "legendgroup": "name=amy",
           "marker": {
            "color": "#636efa",
            "symbol": "circle"
           },
           "mode": "markers",
           "name": "name=amy",
           "showlegend": true,
           "type": "scatter",
           "x": [
            "i"
           ],
           "xaxis": "x",
           "y": [
            1
           ],
           "yaxis": "y"
          }
         ],
         "name": "2018-03-16"
        },
        {
         "data": [
          {
           "hoverlabel": {
            "namelength": 0
           },
           "hovertemplate": "name=amy<br>date=2018-03-20<br>activity=%{x}<br>time=%{y}",
           "legendgroup": "name=amy",
           "marker": {
            "color": "#636efa",
            "symbol": "circle"
           },
           "mode": "markers",
           "name": "name=amy",
           "showlegend": true,
           "type": "scatter",
           "x": [
            "i"
           ],
           "xaxis": "x",
           "y": [
            3
           ],
           "yaxis": "y"
          },
          {
           "hoverlabel": {
            "namelength": 0
           },
           "hovertemplate": "name=zoe<br>date=2018-03-20<br>activity=%{x}<br>time=%{y}",
           "legendgroup": "name=zoe",
           "marker": {
            "color": "#EF553B",
            "symbol": "circle"
           },
           "mode": "markers",
           "name": "name=zoe",
           "showlegend": true,
           "type": "scatter",
           "x": [
            "i"
           ],
           "xaxis": "x2",
           "y": [
            3
           ],
           "yaxis": "y"
          }
         ],
         "name": "2018-03-20"
        },
        {
         "data": [
          {
           "hoverlabel": {
            "namelength": 0
           },
           "hovertemplate": "name=amy<br>date=2018-03-22<br>activity=%{x}<br>time=%{y}",
           "legendgroup": "name=amy",
           "marker": {
            "color": "#636efa",
            "symbol": "circle"
           },
           "mode": "markers",
           "name": "name=amy",
           "showlegend": true,
           "type": "scatter",
           "x": [
            "csue",
            "i"
           ],
           "xaxis": "x",
           "y": [
            12,
            27
           ],
           "yaxis": "y"
          }
         ],
         "name": "2018-03-22"
        },
        {
         "data": [
          {
           "hoverlabel": {
            "namelength": 0
           },
           "hovertemplate": "name=amy<br>date=2018-03-23<br>activity=%{x}<br>time=%{y}",
           "legendgroup": "name=amy",
           "marker": {
            "color": "#636efa",
            "symbol": "circle"
           },
           "mode": "markers",
           "name": "name=amy",
           "showlegend": true,
           "type": "scatter",
           "x": [
            "i",
            "tprinter"
           ],
           "xaxis": "x",
           "y": [
            52,
            2
           ],
           "yaxis": "y"
          }
         ],
         "name": "2018-03-23"
        },
        {
         "data": [
          {
           "hoverlabel": {
            "namelength": 0
           },
           "hovertemplate": "name=amy<br>date=2018-03-24<br>activity=%{x}<br>time=%{y}",
           "legendgroup": "name=amy",
           "marker": {
            "color": "#636efa",
            "symbol": "circle"
           },
           "mode": "markers",
           "name": "name=amy",
           "showlegend": true,
           "type": "scatter",
           "x": [
            "i"
           ],
           "xaxis": "x",
           "y": [
            24
           ],
           "yaxis": "y"
          }
         ],
         "name": "2018-03-24"
        },
        {
         "data": [
          {
           "hoverlabel": {
            "namelength": 0
           },
           "hovertemplate": "name=amy<br>date=2018-03-26<br>activity=%{x}<br>time=%{y}",
           "legendgroup": "name=amy",
           "marker": {
            "color": "#636efa",
            "symbol": "circle"
           },
           "mode": "markers",
           "name": "name=amy",
           "showlegend": true,
           "type": "scatter",
           "x": [
            "cben",
            "i",
            "tprinter"
           ],
           "xaxis": "x",
           "y": [
            8,
            27,
            2
           ],
           "yaxis": "y"
          }
         ],
         "name": "2018-03-26"
        },
        {
         "data": [
          {
           "hoverlabel": {
            "namelength": 0
           },
           "hovertemplate": "name=amy<br>date=2018-04-03<br>activity=%{x}<br>time=%{y}",
           "legendgroup": "name=amy",
           "marker": {
            "color": "#636efa",
            "symbol": "circle"
           },
           "mode": "markers",
           "name": "name=amy",
           "showlegend": true,
           "type": "scatter",
           "x": [
            "i",
            "tprinter"
           ],
           "xaxis": "x",
           "y": [
            515,
            3
           ],
           "yaxis": "y"
          },
          {
           "hoverlabel": {
            "namelength": 0
           },
           "hovertemplate": "name=zoe<br>date=2018-04-03<br>activity=%{x}<br>time=%{y}",
           "legendgroup": "name=zoe",
           "marker": {
            "color": "#EF553B",
            "symbol": "circle"
           },
           "mode": "markers",
           "name": "name=zoe",
           "showlegend": true,
           "type": "scatter",
           "x": [
            "cben",
            "i",
            "tprinter"
           ],
           "xaxis": "x2",
           "y": [
            13,
            39,
            1
           ],
           "yaxis": "y"
          }
         ],
         "name": "2018-04-03"
        },
        {
         "data": [
          {
           "hoverlabel": {
            "namelength": 0
           },
           "hovertemplate": "name=amy<br>date=2018-04-08<br>activity=%{x}<br>time=%{y}",
           "legendgroup": "name=amy",
           "marker": {
            "color": "#636efa",
            "symbol": "circle"
           },
           "mode": "markers",
           "name": "name=amy",
           "showlegend": true,
           "type": "scatter",
           "x": [
            "cben",
            "csue",
            "i"
           ],
           "xaxis": "x",
           "y": [
            1,
            2,
            64
           ],
           "yaxis": "y"
          }
         ],
         "name": "2018-04-08"
        },
        {
         "data": [
          {
           "hoverlabel": {
            "namelength": 0
           },
           "hovertemplate": "name=amy<br>date=2018-04-09<br>activity=%{x}<br>time=%{y}",
           "legendgroup": "name=amy",
           "marker": {
            "color": "#636efa",
            "symbol": "circle"
           },
           "mode": "markers",
           "name": "name=amy",
           "showlegend": true,
           "type": "scatter",
           "x": [
            "i"
           ],
           "xaxis": "x",
           "y": [
            1
           ],
           "yaxis": "y"
          },
          {
           "hoverlabel": {
            "namelength": 0
           },
           "hovertemplate": "name=zoe<br>date=2018-04-09<br>activity=%{x}<br>time=%{y}",
           "legendgroup": "name=zoe",
           "marker": {
            "color": "#EF553B",
            "symbol": "circle"
           },
           "mode": "markers",
           "name": "name=zoe",
           "showlegend": true,
           "type": "scatter",
           "x": [
            "cben",
            "i"
           ],
           "xaxis": "x2",
           "y": [
            15,
            60
           ],
           "yaxis": "y"
          }
         ],
         "name": "2018-04-09"
        },
        {
         "data": [
          {
           "hoverlabel": {
            "namelength": 0
           },
           "hovertemplate": "name=amy<br>date=2018-04-10<br>activity=%{x}<br>time=%{y}",
           "legendgroup": "name=amy",
           "marker": {
            "color": "#636efa",
            "symbol": "circle"
           },
           "mode": "markers",
           "name": "name=amy",
           "showlegend": true,
           "type": "scatter",
           "x": [
            "cben",
            "csue",
            "i",
            "tprinter"
           ],
           "xaxis": "x",
           "y": [
            2,
            2,
            144,
            2
           ],
           "yaxis": "y"
          },
          {
           "hoverlabel": {
            "namelength": 0
           },
           "hovertemplate": "name=zoe<br>date=2018-04-10<br>activity=%{x}<br>time=%{y}",
           "legendgroup": "name=zoe",
           "marker": {
            "color": "#EF553B",
            "symbol": "circle"
           },
           "mode": "markers",
           "name": "name=zoe",
           "showlegend": true,
           "type": "scatter",
           "x": [
            "cben",
            "i"
           ],
           "xaxis": "x2",
           "y": [
            8,
            42
           ],
           "yaxis": "y"
          }
         ],
         "name": "2018-04-10"
        },
        {
         "data": [
          {
           "hoverlabel": {
            "namelength": 0
           },
           "hovertemplate": "name=amy<br>date=2018-04-13<br>activity=%{x}<br>time=%{y}",
           "legendgroup": "name=amy",
           "marker": {
            "color": "#636efa",
            "symbol": "circle"
           },
           "mode": "markers",
           "name": "name=amy",
           "showlegend": true,
           "type": "scatter",
           "x": [
            "cben",
            "i",
            "tprinter"
           ],
           "xaxis": "x",
           "y": [
            1,
            57,
            1
           ],
           "yaxis": "y"
          },
          {
           "hoverlabel": {
            "namelength": 0
           },
           "hovertemplate": "name=zoe<br>date=2018-04-13<br>activity=%{x}<br>time=%{y}",
           "legendgroup": "name=zoe",
           "marker": {
            "color": "#EF553B",
            "symbol": "circle"
           },
           "mode": "markers",
           "name": "name=zoe",
           "showlegend": true,
           "type": "scatter",
           "x": [
            "i"
           ],
           "xaxis": "x2",
           "y": [
            21
           ],
           "yaxis": "y"
          }
         ],
         "name": "2018-04-13"
        },
        {
         "data": [
          {
           "hoverlabel": {
            "namelength": 0
           },
           "hovertemplate": "name=amy<br>date=2018-04-14<br>activity=%{x}<br>time=%{y}",
           "legendgroup": "name=amy",
           "marker": {
            "color": "#636efa",
            "symbol": "circle"
           },
           "mode": "markers",
           "name": "name=amy",
           "showlegend": true,
           "type": "scatter",
           "x": [
            "i"
           ],
           "xaxis": "x",
           "y": [
            3
           ],
           "yaxis": "y"
          },
          {
           "hoverlabel": {
            "namelength": 0
           },
           "hovertemplate": "name=zoe<br>date=2018-04-14<br>activity=%{x}<br>time=%{y}",
           "legendgroup": "name=zoe",
           "marker": {
            "color": "#EF553B",
            "symbol": "circle"
           },
           "mode": "markers",
           "name": "name=zoe",
           "showlegend": true,
           "type": "scatter",
           "x": [
            "i"
           ],
           "xaxis": "x2",
           "y": [
            2
           ],
           "yaxis": "y"
          }
         ],
         "name": "2018-04-14"
        },
        {
         "data": [
          {
           "hoverlabel": {
            "namelength": 0
           },
           "hovertemplate": "name=amy<br>date=2018-04-15<br>activity=%{x}<br>time=%{y}",
           "legendgroup": "name=amy",
           "marker": {
            "color": "#636efa",
            "symbol": "circle"
           },
           "mode": "markers",
           "name": "name=amy",
           "showlegend": true,
           "type": "scatter",
           "x": [
            "i",
            "tprinter"
           ],
           "xaxis": "x",
           "y": [
            58,
            7
           ],
           "yaxis": "y"
          },
          {
           "hoverlabel": {
            "namelength": 0
           },
           "hovertemplate": "name=zoe<br>date=2018-04-15<br>activity=%{x}<br>time=%{y}",
           "legendgroup": "name=zoe",
           "marker": {
            "color": "#EF553B",
            "symbol": "circle"
           },
           "mode": "markers",
           "name": "name=zoe",
           "showlegend": true,
           "type": "scatter",
           "x": [
            "i"
           ],
           "xaxis": "x2",
           "y": [
            5
           ],
           "yaxis": "y"
          }
         ],
         "name": "2018-04-15"
        },
        {
         "data": [
          {
           "hoverlabel": {
            "namelength": 0
           },
           "hovertemplate": "name=amy<br>date=2018-04-16<br>activity=%{x}<br>time=%{y}",
           "legendgroup": "name=amy",
           "marker": {
            "color": "#636efa",
            "symbol": "circle"
           },
           "mode": "markers",
           "name": "name=amy",
           "showlegend": true,
           "type": "scatter",
           "x": [
            "i",
            "tprinter"
           ],
           "xaxis": "x",
           "y": [
            52,
            2
           ],
           "yaxis": "y"
          },
          {
           "hoverlabel": {
            "namelength": 0
           },
           "hovertemplate": "name=zoe<br>date=2018-04-16<br>activity=%{x}<br>time=%{y}",
           "legendgroup": "name=zoe",
           "marker": {
            "color": "#EF553B",
            "symbol": "circle"
           },
           "mode": "markers",
           "name": "name=zoe",
           "showlegend": true,
           "type": "scatter",
           "x": [
            "i"
           ],
           "xaxis": "x2",
           "y": [
            14
           ],
           "yaxis": "y"
          }
         ],
         "name": "2018-04-16"
        },
        {
         "data": [
          {
           "hoverlabel": {
            "namelength": 0
           },
           "hovertemplate": "name=amy<br>date=2018-04-17<br>activity=%{x}<br>time=%{y}",
           "legendgroup": "name=amy",
           "marker": {
            "color": "#636efa",
            "symbol": "circle"
           },
           "mode": "markers",
           "name": "name=amy",
           "showlegend": true,
           "type": "scatter",
           "x": [
            "i"
           ],
           "xaxis": "x",
           "y": [
            24
           ],
           "yaxis": "y"
          },
          {
           "hoverlabel": {
            "namelength": 0
           },
           "hovertemplate": "name=zoe<br>date=2018-04-17<br>activity=%{x}<br>time=%{y}",
           "legendgroup": "name=zoe",
           "marker": {
            "color": "#EF553B",
            "symbol": "circle"
           },
           "mode": "markers",
           "name": "name=zoe",
           "showlegend": true,
           "type": "scatter",
           "x": [
            "i"
           ],
           "xaxis": "x2",
           "y": [
            27
           ],
           "yaxis": "y"
          }
         ],
         "name": "2018-04-17"
        },
        {
         "data": [
          {
           "hoverlabel": {
            "namelength": 0
           },
           "hovertemplate": "name=amy<br>date=2018-04-21<br>activity=%{x}<br>time=%{y}",
           "legendgroup": "name=amy",
           "marker": {
            "color": "#636efa",
            "symbol": "circle"
           },
           "mode": "markers",
           "name": "name=amy",
           "showlegend": true,
           "type": "scatter",
           "x": [
            "i",
            "tprinter"
           ],
           "xaxis": "x",
           "y": [
            4,
            1
           ],
           "yaxis": "y"
          },
          {
           "hoverlabel": {
            "namelength": 0
           },
           "hovertemplate": "name=zoe<br>date=2018-04-21<br>activity=%{x}<br>time=%{y}",
           "legendgroup": "name=zoe",
           "marker": {
            "color": "#EF553B",
            "symbol": "circle"
           },
           "mode": "markers",
           "name": "name=zoe",
           "showlegend": true,
           "type": "scatter",
           "x": [
            "i"
           ],
           "xaxis": "x2",
           "y": [
            2
           ],
           "yaxis": "y"
          }
         ],
         "name": "2018-04-21"
        },
        {
         "data": [
          {
           "hoverlabel": {
            "namelength": 0
           },
           "hovertemplate": "name=amy<br>date=2018-04-24<br>activity=%{x}<br>time=%{y}",
           "legendgroup": "name=amy",
           "marker": {
            "color": "#636efa",
            "symbol": "circle"
           },
           "mode": "markers",
           "name": "name=amy",
           "showlegend": true,
           "type": "scatter",
           "x": [
            "cben",
            "i",
            "tprinter"
           ],
           "xaxis": "x",
           "y": [
            1,
            195,
            3
           ],
           "yaxis": "y"
          },
          {
           "hoverlabel": {
            "namelength": 0
           },
           "hovertemplate": "name=zoe<br>date=2018-04-24<br>activity=%{x}<br>time=%{y}",
           "legendgroup": "name=zoe",
           "marker": {
            "color": "#EF553B",
            "symbol": "circle"
           },
           "mode": "markers",
           "name": "name=zoe",
           "showlegend": true,
           "type": "scatter",
           "x": [
            "cben",
            "i"
           ],
           "xaxis": "x2",
           "y": [
            8,
            27
           ],
           "yaxis": "y"
          }
         ],
         "name": "2018-04-24"
        },
        {
         "data": [
          {
           "hoverlabel": {
            "namelength": 0
           },
           "hovertemplate": "name=amy<br>date=2018-04-25<br>activity=%{x}<br>time=%{y}",
           "legendgroup": "name=amy",
           "marker": {
            "color": "#636efa",
            "symbol": "circle"
           },
           "mode": "markers",
           "name": "name=amy",
           "showlegend": true,
           "type": "scatter",
           "x": [
            "i"
           ],
           "xaxis": "x",
           "y": [
            1
           ],
           "yaxis": "y"
          }
         ],
         "name": "2018-04-25"
        },
        {
         "data": [
          {
           "hoverlabel": {
            "namelength": 0
           },
           "hovertemplate": "name=zoe<br>date=2018-02-02<br>activity=%{x}<br>time=%{y}",
           "legendgroup": "name=zoe",
           "marker": {
            "color": "#EF553B",
            "symbol": "circle"
           },
           "mode": "markers",
           "name": "name=zoe",
           "showlegend": true,
           "type": "scatter",
           "x": [
            "i"
           ],
           "xaxis": "x2",
           "y": [
            117
           ],
           "yaxis": "y"
          }
         ],
         "name": "2018-02-02"
        },
        {
         "data": [
          {
           "hoverlabel": {
            "namelength": 0
           },
           "hovertemplate": "name=zoe<br>date=2018-02-03<br>activity=%{x}<br>time=%{y}",
           "legendgroup": "name=zoe",
           "marker": {
            "color": "#EF553B",
            "symbol": "circle"
           },
           "mode": "markers",
           "name": "name=zoe",
           "showlegend": true,
           "type": "scatter",
           "x": [
            "i"
           ],
           "xaxis": "x2",
           "y": [
            64
           ],
           "yaxis": "y"
          }
         ],
         "name": "2018-02-03"
        },
        {
         "data": [
          {
           "hoverlabel": {
            "namelength": 0
           },
           "hovertemplate": "name=zoe<br>date=2018-02-07<br>activity=%{x}<br>time=%{y}",
           "legendgroup": "name=zoe",
           "marker": {
            "color": "#EF553B",
            "symbol": "circle"
           },
           "mode": "markers",
           "name": "name=zoe",
           "showlegend": true,
           "type": "scatter",
           "x": [
            "i"
           ],
           "xaxis": "x2",
           "y": [
            5
           ],
           "yaxis": "y"
          }
         ],
         "name": "2018-02-07"
        },
        {
         "data": [
          {
           "hoverlabel": {
            "namelength": 0
           },
           "hovertemplate": "name=zoe<br>date=2018-02-09<br>activity=%{x}<br>time=%{y}",
           "legendgroup": "name=zoe",
           "marker": {
            "color": "#EF553B",
            "symbol": "circle"
           },
           "mode": "markers",
           "name": "name=zoe",
           "showlegend": true,
           "type": "scatter",
           "x": [
            "i"
           ],
           "xaxis": "x2",
           "y": [
            4
           ],
           "yaxis": "y"
          }
         ],
         "name": "2018-02-09"
        },
        {
         "data": [
          {
           "hoverlabel": {
            "namelength": 0
           },
           "hovertemplate": "name=zoe<br>date=2018-02-11<br>activity=%{x}<br>time=%{y}",
           "legendgroup": "name=zoe",
           "marker": {
            "color": "#EF553B",
            "symbol": "circle"
           },
           "mode": "markers",
           "name": "name=zoe",
           "showlegend": true,
           "type": "scatter",
           "x": [
            "i"
           ],
           "xaxis": "x2",
           "y": [
            4
           ],
           "yaxis": "y"
          }
         ],
         "name": "2018-02-11"
        },
        {
         "data": [
          {
           "hoverlabel": {
            "namelength": 0
           },
           "hovertemplate": "name=zoe<br>date=2018-02-14<br>activity=%{x}<br>time=%{y}",
           "legendgroup": "name=zoe",
           "marker": {
            "color": "#EF553B",
            "symbol": "circle"
           },
           "mode": "markers",
           "name": "name=zoe",
           "showlegend": true,
           "type": "scatter",
           "x": [
            "cben",
            "i"
           ],
           "xaxis": "x2",
           "y": [
            5,
            65
           ],
           "yaxis": "y"
          }
         ],
         "name": "2018-02-14"
        },
        {
         "data": [
          {
           "hoverlabel": {
            "namelength": 0
           },
           "hovertemplate": "name=zoe<br>date=2018-02-15<br>activity=%{x}<br>time=%{y}",
           "legendgroup": "name=zoe",
           "marker": {
            "color": "#EF553B",
            "symbol": "circle"
           },
           "mode": "markers",
           "name": "name=zoe",
           "showlegend": true,
           "type": "scatter",
           "x": [
            "cben",
            "i"
           ],
           "xaxis": "x2",
           "y": [
            17,
            44
           ],
           "yaxis": "y"
          }
         ],
         "name": "2018-02-15"
        },
        {
         "data": [
          {
           "hoverlabel": {
            "namelength": 0
           },
           "hovertemplate": "name=zoe<br>date=2018-02-16<br>activity=%{x}<br>time=%{y}",
           "legendgroup": "name=zoe",
           "marker": {
            "color": "#EF553B",
            "symbol": "circle"
           },
           "mode": "markers",
           "name": "name=zoe",
           "showlegend": true,
           "type": "scatter",
           "x": [
            "i"
           ],
           "xaxis": "x2",
           "y": [
            2
           ],
           "yaxis": "y"
          }
         ],
         "name": "2018-02-16"
        },
        {
         "data": [
          {
           "hoverlabel": {
            "namelength": 0
           },
           "hovertemplate": "name=zoe<br>date=2018-02-17<br>activity=%{x}<br>time=%{y}",
           "legendgroup": "name=zoe",
           "marker": {
            "color": "#EF553B",
            "symbol": "circle"
           },
           "mode": "markers",
           "name": "name=zoe",
           "showlegend": true,
           "type": "scatter",
           "x": [
            "i"
           ],
           "xaxis": "x2",
           "y": [
            2
           ],
           "yaxis": "y"
          }
         ],
         "name": "2018-02-17"
        },
        {
         "data": [
          {
           "hoverlabel": {
            "namelength": 0
           },
           "hovertemplate": "name=zoe<br>date=2018-02-19<br>activity=%{x}<br>time=%{y}",
           "legendgroup": "name=zoe",
           "marker": {
            "color": "#EF553B",
            "symbol": "circle"
           },
           "mode": "markers",
           "name": "name=zoe",
           "showlegend": true,
           "type": "scatter",
           "x": [
            "cben",
            "i"
           ],
           "xaxis": "x2",
           "y": [
            4,
            8
           ],
           "yaxis": "y"
          }
         ],
         "name": "2018-02-19"
        },
        {
         "data": [
          {
           "hoverlabel": {
            "namelength": 0
           },
           "hovertemplate": "name=zoe<br>date=2018-02-20<br>activity=%{x}<br>time=%{y}",
           "legendgroup": "name=zoe",
           "marker": {
            "color": "#EF553B",
            "symbol": "circle"
           },
           "mode": "markers",
           "name": "name=zoe",
           "showlegend": true,
           "type": "scatter",
           "x": [
            "i"
           ],
           "xaxis": "x2",
           "y": [
            12
           ],
           "yaxis": "y"
          }
         ],
         "name": "2018-02-20"
        },
        {
         "data": [
          {
           "hoverlabel": {
            "namelength": 0
           },
           "hovertemplate": "name=zoe<br>date=2018-02-21<br>activity=%{x}<br>time=%{y}",
           "legendgroup": "name=zoe",
           "marker": {
            "color": "#EF553B",
            "symbol": "circle"
           },
           "mode": "markers",
           "name": "name=zoe",
           "showlegend": true,
           "type": "scatter",
           "x": [
            "i"
           ],
           "xaxis": "x2",
           "y": [
            4
           ],
           "yaxis": "y"
          }
         ],
         "name": "2018-02-21"
        },
        {
         "data": [
          {
           "hoverlabel": {
            "namelength": 0
           },
           "hovertemplate": "name=zoe<br>date=2018-02-23<br>activity=%{x}<br>time=%{y}",
           "legendgroup": "name=zoe",
           "marker": {
            "color": "#EF553B",
            "symbol": "circle"
           },
           "mode": "markers",
           "name": "name=zoe",
           "showlegend": true,
           "type": "scatter",
           "x": [
            "i"
           ],
           "xaxis": "x2",
           "y": [
            62
           ],
           "yaxis": "y"
          }
         ],
         "name": "2018-02-23"
        },
        {
         "data": [
          {
           "hoverlabel": {
            "namelength": 0
           },
           "hovertemplate": "name=zoe<br>date=2018-02-25<br>activity=%{x}<br>time=%{y}",
           "legendgroup": "name=zoe",
           "marker": {
            "color": "#EF553B",
            "symbol": "circle"
           },
           "mode": "markers",
           "name": "name=zoe",
           "showlegend": true,
           "type": "scatter",
           "x": [
            "i"
           ],
           "xaxis": "x2",
           "y": [
            4
           ],
           "yaxis": "y"
          }
         ],
         "name": "2018-02-25"
        },
        {
         "data": [
          {
           "hoverlabel": {
            "namelength": 0
           },
           "hovertemplate": "name=zoe<br>date=2018-03-02<br>activity=%{x}<br>time=%{y}",
           "legendgroup": "name=zoe",
           "marker": {
            "color": "#EF553B",
            "symbol": "circle"
           },
           "mode": "markers",
           "name": "name=zoe",
           "showlegend": true,
           "type": "scatter",
           "x": [
            "cben",
            "i",
            "tprinter"
           ],
           "xaxis": "x2",
           "y": [
            10,
            149,
            1
           ],
           "yaxis": "y"
          }
         ],
         "name": "2018-03-02"
        },
        {
         "data": [
          {
           "hoverlabel": {
            "namelength": 0
           },
           "hovertemplate": "name=zoe<br>date=2018-03-03<br>activity=%{x}<br>time=%{y}",
           "legendgroup": "name=zoe",
           "marker": {
            "color": "#EF553B",
            "symbol": "circle"
           },
           "mode": "markers",
           "name": "name=zoe",
           "showlegend": true,
           "type": "scatter",
           "x": [
            "cben",
            "i"
           ],
           "xaxis": "x2",
           "y": [
            2,
            170
           ],
           "yaxis": "y"
          }
         ],
         "name": "2018-03-03"
        },
        {
         "data": [
          {
           "hoverlabel": {
            "namelength": 0
           },
           "hovertemplate": "name=zoe<br>date=2018-03-04<br>activity=%{x}<br>time=%{y}",
           "legendgroup": "name=zoe",
           "marker": {
            "color": "#EF553B",
            "symbol": "circle"
           },
           "mode": "markers",
           "name": "name=zoe",
           "showlegend": true,
           "type": "scatter",
           "x": [
            "i"
           ],
           "xaxis": "x2",
           "y": [
            3
           ],
           "yaxis": "y"
          }
         ],
         "name": "2018-03-04"
        },
        {
         "data": [
          {
           "hoverlabel": {
            "namelength": 0
           },
           "hovertemplate": "name=zoe<br>date=2018-03-30<br>activity=%{x}<br>time=%{y}",
           "legendgroup": "name=zoe",
           "marker": {
            "color": "#EF553B",
            "symbol": "circle"
           },
           "mode": "markers",
           "name": "name=zoe",
           "showlegend": true,
           "type": "scatter",
           "x": [
            "i"
           ],
           "xaxis": "x2",
           "y": [
            157
           ],
           "yaxis": "y"
          }
         ],
         "name": "2018-03-30"
        },
        {
         "data": [
          {
           "hoverlabel": {
            "namelength": 0
           },
           "hovertemplate": "name=zoe<br>date=2018-04-02<br>activity=%{x}<br>time=%{y}",
           "legendgroup": "name=zoe",
           "marker": {
            "color": "#EF553B",
            "symbol": "circle"
           },
           "mode": "markers",
           "name": "name=zoe",
           "showlegend": true,
           "type": "scatter",
           "x": [
            "i"
           ],
           "xaxis": "x2",
           "y": [
            21
           ],
           "yaxis": "y"
          }
         ],
         "name": "2018-04-02"
        },
        {
         "data": [
          {
           "hoverlabel": {
            "namelength": 0
           },
           "hovertemplate": "name=zoe<br>date=2018-04-04<br>activity=%{x}<br>time=%{y}",
           "legendgroup": "name=zoe",
           "marker": {
            "color": "#EF553B",
            "symbol": "circle"
           },
           "mode": "markers",
           "name": "name=zoe",
           "showlegend": true,
           "type": "scatter",
           "x": [
            "cben",
            "i"
           ],
           "xaxis": "x2",
           "y": [
            14,
            16
           ],
           "yaxis": "y"
          }
         ],
         "name": "2018-04-04"
        },
        {
         "data": [
          {
           "hoverlabel": {
            "namelength": 0
           },
           "hovertemplate": "name=zoe<br>date=2018-04-06<br>activity=%{x}<br>time=%{y}",
           "legendgroup": "name=zoe",
           "marker": {
            "color": "#EF553B",
            "symbol": "circle"
           },
           "mode": "markers",
           "name": "name=zoe",
           "showlegend": true,
           "type": "scatter",
           "x": [
            "cben",
            "csue",
            "i",
            "tprinter"
           ],
           "xaxis": "x2",
           "y": [
            9,
            1,
            84,
            1
           ],
           "yaxis": "y"
          }
         ],
         "name": "2018-04-06"
        },
        {
         "data": [
          {
           "hoverlabel": {
            "namelength": 0
           },
           "hovertemplate": "name=zoe<br>date=2018-04-11<br>activity=%{x}<br>time=%{y}",
           "legendgroup": "name=zoe",
           "marker": {
            "color": "#EF553B",
            "symbol": "circle"
           },
           "mode": "markers",
           "name": "name=zoe",
           "showlegend": true,
           "type": "scatter",
           "x": [
            "i"
           ],
           "xaxis": "x2",
           "y": [
            8
           ],
           "yaxis": "y"
          }
         ],
         "name": "2018-04-11"
        },
        {
         "data": [
          {
           "hoverlabel": {
            "namelength": 0
           },
           "hovertemplate": "name=zoe<br>date=2018-04-19<br>activity=%{x}<br>time=%{y}",
           "legendgroup": "name=zoe",
           "marker": {
            "color": "#EF553B",
            "symbol": "circle"
           },
           "mode": "markers",
           "name": "name=zoe",
           "showlegend": true,
           "type": "scatter",
           "x": [
            "i"
           ],
           "xaxis": "x2",
           "y": [
            68
           ],
           "yaxis": "y"
          }
         ],
         "name": "2018-04-19"
        },
        {
         "data": [
          {
           "hoverlabel": {
            "namelength": 0
           },
           "hovertemplate": "name=zoe<br>date=2018-04-23<br>activity=%{x}<br>time=%{y}",
           "legendgroup": "name=zoe",
           "marker": {
            "color": "#EF553B",
            "symbol": "circle"
           },
           "mode": "markers",
           "name": "name=zoe",
           "showlegend": true,
           "type": "scatter",
           "x": [
            "i"
           ],
           "xaxis": "x2",
           "y": [
            4
           ],
           "yaxis": "y"
          }
         ],
         "name": "2018-04-23"
        }
       ],
       "layout": {
        "annotations": [
         {
          "showarrow": false,
          "text": "name=amy",
          "textangle": 0,
          "x": 0.23684210526315788,
          "xanchor": "center",
          "xref": "paper",
          "y": 1.02,
          "yanchor": "middle",
          "yref": "paper"
         },
         {
          "showarrow": false,
          "text": "name=zoe",
          "textangle": 0,
          "x": 0.763157894736842,
          "xanchor": "center",
          "xref": "paper",
          "y": 1.02,
          "yanchor": "middle",
          "yref": "paper"
         }
        ],
        "grid": {
         "xaxes": [
          "x",
          "x2"
         ],
         "xgap": 0.1,
         "xside": "bottom",
         "yaxes": [
          "y"
         ],
         "ygap": 0.1,
         "yside": "left"
        },
        "height": 600,
        "legend": {
         "tracegroupgap": 0
        },
        "margin": {
         "t": 60
        },
        "sliders": [
         {
          "active": 0,
          "currentvalue": {
           "prefix": "date="
          },
          "len": 0.9,
          "pad": {
           "b": 10,
           "t": 60
          },
          "steps": [
           {
            "args": [
             [
              "2018-02-04"
             ],
             {
              "frame": {
               "duration": 0,
               "redraw": false
              },
              "fromcurrent": true,
              "mode": "immediate",
              "transition": {
               "duration": 0,
               "easing": "linear"
              }
             }
            ],
            "label": "2018-02-04",
            "method": "animate"
           },
           {
            "args": [
             [
              "2018-02-05"
             ],
             {
              "frame": {
               "duration": 0,
               "redraw": false
              },
              "fromcurrent": true,
              "mode": "immediate",
              "transition": {
               "duration": 0,
               "easing": "linear"
              }
             }
            ],
            "label": "2018-02-05",
            "method": "animate"
           },
           {
            "args": [
             [
              "2018-02-06"
             ],
             {
              "frame": {
               "duration": 0,
               "redraw": false
              },
              "fromcurrent": true,
              "mode": "immediate",
              "transition": {
               "duration": 0,
               "easing": "linear"
              }
             }
            ],
            "label": "2018-02-06",
            "method": "animate"
           },
           {
            "args": [
             [
              "2018-02-08"
             ],
             {
              "frame": {
               "duration": 0,
               "redraw": false
              },
              "fromcurrent": true,
              "mode": "immediate",
              "transition": {
               "duration": 0,
               "easing": "linear"
              }
             }
            ],
            "label": "2018-02-08",
            "method": "animate"
           },
           {
            "args": [
             [
              "2018-02-22"
             ],
             {
              "frame": {
               "duration": 0,
               "redraw": false
              },
              "fromcurrent": true,
              "mode": "immediate",
              "transition": {
               "duration": 0,
               "easing": "linear"
              }
             }
            ],
            "label": "2018-02-22",
            "method": "animate"
           },
           {
            "args": [
             [
              "2018-02-26"
             ],
             {
              "frame": {
               "duration": 0,
               "redraw": false
              },
              "fromcurrent": true,
              "mode": "immediate",
              "transition": {
               "duration": 0,
               "easing": "linear"
              }
             }
            ],
            "label": "2018-02-26",
            "method": "animate"
           },
           {
            "args": [
             [
              "2018-02-27"
             ],
             {
              "frame": {
               "duration": 0,
               "redraw": false
              },
              "fromcurrent": true,
              "mode": "immediate",
              "transition": {
               "duration": 0,
               "easing": "linear"
              }
             }
            ],
            "label": "2018-02-27",
            "method": "animate"
           },
           {
            "args": [
             [
              "2018-02-28"
             ],
             {
              "frame": {
               "duration": 0,
               "redraw": false
              },
              "fromcurrent": true,
              "mode": "immediate",
              "transition": {
               "duration": 0,
               "easing": "linear"
              }
             }
            ],
            "label": "2018-02-28",
            "method": "animate"
           },
           {
            "args": [
             [
              "2018-03-05"
             ],
             {
              "frame": {
               "duration": 0,
               "redraw": false
              },
              "fromcurrent": true,
              "mode": "immediate",
              "transition": {
               "duration": 0,
               "easing": "linear"
              }
             }
            ],
            "label": "2018-03-05",
            "method": "animate"
           },
           {
            "args": [
             [
              "2018-03-06"
             ],
             {
              "frame": {
               "duration": 0,
               "redraw": false
              },
              "fromcurrent": true,
              "mode": "immediate",
              "transition": {
               "duration": 0,
               "easing": "linear"
              }
             }
            ],
            "label": "2018-03-06",
            "method": "animate"
           },
           {
            "args": [
             [
              "2018-03-07"
             ],
             {
              "frame": {
               "duration": 0,
               "redraw": false
              },
              "fromcurrent": true,
              "mode": "immediate",
              "transition": {
               "duration": 0,
               "easing": "linear"
              }
             }
            ],
            "label": "2018-03-07",
            "method": "animate"
           },
           {
            "args": [
             [
              "2018-03-08"
             ],
             {
              "frame": {
               "duration": 0,
               "redraw": false
              },
              "fromcurrent": true,
              "mode": "immediate",
              "transition": {
               "duration": 0,
               "easing": "linear"
              }
             }
            ],
            "label": "2018-03-08",
            "method": "animate"
           },
           {
            "args": [
             [
              "2018-03-09"
             ],
             {
              "frame": {
               "duration": 0,
               "redraw": false
              },
              "fromcurrent": true,
              "mode": "immediate",
              "transition": {
               "duration": 0,
               "easing": "linear"
              }
             }
            ],
            "label": "2018-03-09",
            "method": "animate"
           },
           {
            "args": [
             [
              "2018-03-16"
             ],
             {
              "frame": {
               "duration": 0,
               "redraw": false
              },
              "fromcurrent": true,
              "mode": "immediate",
              "transition": {
               "duration": 0,
               "easing": "linear"
              }
             }
            ],
            "label": "2018-03-16",
            "method": "animate"
           },
           {
            "args": [
             [
              "2018-03-20"
             ],
             {
              "frame": {
               "duration": 0,
               "redraw": false
              },
              "fromcurrent": true,
              "mode": "immediate",
              "transition": {
               "duration": 0,
               "easing": "linear"
              }
             }
            ],
            "label": "2018-03-20",
            "method": "animate"
           },
           {
            "args": [
             [
              "2018-03-22"
             ],
             {
              "frame": {
               "duration": 0,
               "redraw": false
              },
              "fromcurrent": true,
              "mode": "immediate",
              "transition": {
               "duration": 0,
               "easing": "linear"
              }
             }
            ],
            "label": "2018-03-22",
            "method": "animate"
           },
           {
            "args": [
             [
              "2018-03-23"
             ],
             {
              "frame": {
               "duration": 0,
               "redraw": false
              },
              "fromcurrent": true,
              "mode": "immediate",
              "transition": {
               "duration": 0,
               "easing": "linear"
              }
             }
            ],
            "label": "2018-03-23",
            "method": "animate"
           },
           {
            "args": [
             [
              "2018-03-24"
             ],
             {
              "frame": {
               "duration": 0,
               "redraw": false
              },
              "fromcurrent": true,
              "mode": "immediate",
              "transition": {
               "duration": 0,
               "easing": "linear"
              }
             }
            ],
            "label": "2018-03-24",
            "method": "animate"
           },
           {
            "args": [
             [
              "2018-03-26"
             ],
             {
              "frame": {
               "duration": 0,
               "redraw": false
              },
              "fromcurrent": true,
              "mode": "immediate",
              "transition": {
               "duration": 0,
               "easing": "linear"
              }
             }
            ],
            "label": "2018-03-26",
            "method": "animate"
           },
           {
            "args": [
             [
              "2018-04-03"
             ],
             {
              "frame": {
               "duration": 0,
               "redraw": false
              },
              "fromcurrent": true,
              "mode": "immediate",
              "transition": {
               "duration": 0,
               "easing": "linear"
              }
             }
            ],
            "label": "2018-04-03",
            "method": "animate"
           },
           {
            "args": [
             [
              "2018-04-08"
             ],
             {
              "frame": {
               "duration": 0,
               "redraw": false
              },
              "fromcurrent": true,
              "mode": "immediate",
              "transition": {
               "duration": 0,
               "easing": "linear"
              }
             }
            ],
            "label": "2018-04-08",
            "method": "animate"
           },
           {
            "args": [
             [
              "2018-04-09"
             ],
             {
              "frame": {
               "duration": 0,
               "redraw": false
              },
              "fromcurrent": true,
              "mode": "immediate",
              "transition": {
               "duration": 0,
               "easing": "linear"
              }
             }
            ],
            "label": "2018-04-09",
            "method": "animate"
           },
           {
            "args": [
             [
              "2018-04-10"
             ],
             {
              "frame": {
               "duration": 0,
               "redraw": false
              },
              "fromcurrent": true,
              "mode": "immediate",
              "transition": {
               "duration": 0,
               "easing": "linear"
              }
             }
            ],
            "label": "2018-04-10",
            "method": "animate"
           },
           {
            "args": [
             [
              "2018-04-13"
             ],
             {
              "frame": {
               "duration": 0,
               "redraw": false
              },
              "fromcurrent": true,
              "mode": "immediate",
              "transition": {
               "duration": 0,
               "easing": "linear"
              }
             }
            ],
            "label": "2018-04-13",
            "method": "animate"
           },
           {
            "args": [
             [
              "2018-04-14"
             ],
             {
              "frame": {
               "duration": 0,
               "redraw": false
              },
              "fromcurrent": true,
              "mode": "immediate",
              "transition": {
               "duration": 0,
               "easing": "linear"
              }
             }
            ],
            "label": "2018-04-14",
            "method": "animate"
           },
           {
            "args": [
             [
              "2018-04-15"
             ],
             {
              "frame": {
               "duration": 0,
               "redraw": false
              },
              "fromcurrent": true,
              "mode": "immediate",
              "transition": {
               "duration": 0,
               "easing": "linear"
              }
             }
            ],
            "label": "2018-04-15",
            "method": "animate"
           },
           {
            "args": [
             [
              "2018-04-16"
             ],
             {
              "frame": {
               "duration": 0,
               "redraw": false
              },
              "fromcurrent": true,
              "mode": "immediate",
              "transition": {
               "duration": 0,
               "easing": "linear"
              }
             }
            ],
            "label": "2018-04-16",
            "method": "animate"
           },
           {
            "args": [
             [
              "2018-04-17"
             ],
             {
              "frame": {
               "duration": 0,
               "redraw": false
              },
              "fromcurrent": true,
              "mode": "immediate",
              "transition": {
               "duration": 0,
               "easing": "linear"
              }
             }
            ],
            "label": "2018-04-17",
            "method": "animate"
           },
           {
            "args": [
             [
              "2018-04-21"
             ],
             {
              "frame": {
               "duration": 0,
               "redraw": false
              },
              "fromcurrent": true,
              "mode": "immediate",
              "transition": {
               "duration": 0,
               "easing": "linear"
              }
             }
            ],
            "label": "2018-04-21",
            "method": "animate"
           },
           {
            "args": [
             [
              "2018-04-24"
             ],
             {
              "frame": {
               "duration": 0,
               "redraw": false
              },
              "fromcurrent": true,
              "mode": "immediate",
              "transition": {
               "duration": 0,
               "easing": "linear"
              }
             }
            ],
            "label": "2018-04-24",
            "method": "animate"
           },
           {
            "args": [
             [
              "2018-04-25"
             ],
             {
              "frame": {
               "duration": 0,
               "redraw": false
              },
              "fromcurrent": true,
              "mode": "immediate",
              "transition": {
               "duration": 0,
               "easing": "linear"
              }
             }
            ],
            "label": "2018-04-25",
            "method": "animate"
           },
           {
            "args": [
             [
              "2018-02-02"
             ],
             {
              "frame": {
               "duration": 0,
               "redraw": false
              },
              "fromcurrent": true,
              "mode": "immediate",
              "transition": {
               "duration": 0,
               "easing": "linear"
              }
             }
            ],
            "label": "2018-02-02",
            "method": "animate"
           },
           {
            "args": [
             [
              "2018-02-03"
             ],
             {
              "frame": {
               "duration": 0,
               "redraw": false
              },
              "fromcurrent": true,
              "mode": "immediate",
              "transition": {
               "duration": 0,
               "easing": "linear"
              }
             }
            ],
            "label": "2018-02-03",
            "method": "animate"
           },
           {
            "args": [
             [
              "2018-02-07"
             ],
             {
              "frame": {
               "duration": 0,
               "redraw": false
              },
              "fromcurrent": true,
              "mode": "immediate",
              "transition": {
               "duration": 0,
               "easing": "linear"
              }
             }
            ],
            "label": "2018-02-07",
            "method": "animate"
           },
           {
            "args": [
             [
              "2018-02-09"
             ],
             {
              "frame": {
               "duration": 0,
               "redraw": false
              },
              "fromcurrent": true,
              "mode": "immediate",
              "transition": {
               "duration": 0,
               "easing": "linear"
              }
             }
            ],
            "label": "2018-02-09",
            "method": "animate"
           },
           {
            "args": [
             [
              "2018-02-11"
             ],
             {
              "frame": {
               "duration": 0,
               "redraw": false
              },
              "fromcurrent": true,
              "mode": "immediate",
              "transition": {
               "duration": 0,
               "easing": "linear"
              }
             }
            ],
            "label": "2018-02-11",
            "method": "animate"
           },
           {
            "args": [
             [
              "2018-02-14"
             ],
             {
              "frame": {
               "duration": 0,
               "redraw": false
              },
              "fromcurrent": true,
              "mode": "immediate",
              "transition": {
               "duration": 0,
               "easing": "linear"
              }
             }
            ],
            "label": "2018-02-14",
            "method": "animate"
           },
           {
            "args": [
             [
              "2018-02-15"
             ],
             {
              "frame": {
               "duration": 0,
               "redraw": false
              },
              "fromcurrent": true,
              "mode": "immediate",
              "transition": {
               "duration": 0,
               "easing": "linear"
              }
             }
            ],
            "label": "2018-02-15",
            "method": "animate"
           },
           {
            "args": [
             [
              "2018-02-16"
             ],
             {
              "frame": {
               "duration": 0,
               "redraw": false
              },
              "fromcurrent": true,
              "mode": "immediate",
              "transition": {
               "duration": 0,
               "easing": "linear"
              }
             }
            ],
            "label": "2018-02-16",
            "method": "animate"
           },
           {
            "args": [
             [
              "2018-02-17"
             ],
             {
              "frame": {
               "duration": 0,
               "redraw": false
              },
              "fromcurrent": true,
              "mode": "immediate",
              "transition": {
               "duration": 0,
               "easing": "linear"
              }
             }
            ],
            "label": "2018-02-17",
            "method": "animate"
           },
           {
            "args": [
             [
              "2018-02-19"
             ],
             {
              "frame": {
               "duration": 0,
               "redraw": false
              },
              "fromcurrent": true,
              "mode": "immediate",
              "transition": {
               "duration": 0,
               "easing": "linear"
              }
             }
            ],
            "label": "2018-02-19",
            "method": "animate"
           },
           {
            "args": [
             [
              "2018-02-20"
             ],
             {
              "frame": {
               "duration": 0,
               "redraw": false
              },
              "fromcurrent": true,
              "mode": "immediate",
              "transition": {
               "duration": 0,
               "easing": "linear"
              }
             }
            ],
            "label": "2018-02-20",
            "method": "animate"
           },
           {
            "args": [
             [
              "2018-02-21"
             ],
             {
              "frame": {
               "duration": 0,
               "redraw": false
              },
              "fromcurrent": true,
              "mode": "immediate",
              "transition": {
               "duration": 0,
               "easing": "linear"
              }
             }
            ],
            "label": "2018-02-21",
            "method": "animate"
           },
           {
            "args": [
             [
              "2018-02-23"
             ],
             {
              "frame": {
               "duration": 0,
               "redraw": false
              },
              "fromcurrent": true,
              "mode": "immediate",
              "transition": {
               "duration": 0,
               "easing": "linear"
              }
             }
            ],
            "label": "2018-02-23",
            "method": "animate"
           },
           {
            "args": [
             [
              "2018-02-25"
             ],
             {
              "frame": {
               "duration": 0,
               "redraw": false
              },
              "fromcurrent": true,
              "mode": "immediate",
              "transition": {
               "duration": 0,
               "easing": "linear"
              }
             }
            ],
            "label": "2018-02-25",
            "method": "animate"
           },
           {
            "args": [
             [
              "2018-03-02"
             ],
             {
              "frame": {
               "duration": 0,
               "redraw": false
              },
              "fromcurrent": true,
              "mode": "immediate",
              "transition": {
               "duration": 0,
               "easing": "linear"
              }
             }
            ],
            "label": "2018-03-02",
            "method": "animate"
           },
           {
            "args": [
             [
              "2018-03-03"
             ],
             {
              "frame": {
               "duration": 0,
               "redraw": false
              },
              "fromcurrent": true,
              "mode": "immediate",
              "transition": {
               "duration": 0,
               "easing": "linear"
              }
             }
            ],
            "label": "2018-03-03",
            "method": "animate"
           },
           {
            "args": [
             [
              "2018-03-04"
             ],
             {
              "frame": {
               "duration": 0,
               "redraw": false
              },
              "fromcurrent": true,
              "mode": "immediate",
              "transition": {
               "duration": 0,
               "easing": "linear"
              }
             }
            ],
            "label": "2018-03-04",
            "method": "animate"
           },
           {
            "args": [
             [
              "2018-03-30"
             ],
             {
              "frame": {
               "duration": 0,
               "redraw": false
              },
              "fromcurrent": true,
              "mode": "immediate",
              "transition": {
               "duration": 0,
               "easing": "linear"
              }
             }
            ],
            "label": "2018-03-30",
            "method": "animate"
           },
           {
            "args": [
             [
              "2018-04-02"
             ],
             {
              "frame": {
               "duration": 0,
               "redraw": false
              },
              "fromcurrent": true,
              "mode": "immediate",
              "transition": {
               "duration": 0,
               "easing": "linear"
              }
             }
            ],
            "label": "2018-04-02",
            "method": "animate"
           },
           {
            "args": [
             [
              "2018-04-04"
             ],
             {
              "frame": {
               "duration": 0,
               "redraw": false
              },
              "fromcurrent": true,
              "mode": "immediate",
              "transition": {
               "duration": 0,
               "easing": "linear"
              }
             }
            ],
            "label": "2018-04-04",
            "method": "animate"
           },
           {
            "args": [
             [
              "2018-04-06"
             ],
             {
              "frame": {
               "duration": 0,
               "redraw": false
              },
              "fromcurrent": true,
              "mode": "immediate",
              "transition": {
               "duration": 0,
               "easing": "linear"
              }
             }
            ],
            "label": "2018-04-06",
            "method": "animate"
           },
           {
            "args": [
             [
              "2018-04-11"
             ],
             {
              "frame": {
               "duration": 0,
               "redraw": false
              },
              "fromcurrent": true,
              "mode": "immediate",
              "transition": {
               "duration": 0,
               "easing": "linear"
              }
             }
            ],
            "label": "2018-04-11",
            "method": "animate"
           },
           {
            "args": [
             [
              "2018-04-19"
             ],
             {
              "frame": {
               "duration": 0,
               "redraw": false
              },
              "fromcurrent": true,
              "mode": "immediate",
              "transition": {
               "duration": 0,
               "easing": "linear"
              }
             }
            ],
            "label": "2018-04-19",
            "method": "animate"
           },
           {
            "args": [
             [
              "2018-04-23"
             ],
             {
              "frame": {
               "duration": 0,
               "redraw": false
              },
              "fromcurrent": true,
              "mode": "immediate",
              "transition": {
               "duration": 0,
               "easing": "linear"
              }
             }
            ],
            "label": "2018-04-23",
            "method": "animate"
           }
          ],
          "x": 0.1,
          "xanchor": "left",
          "y": 0,
          "yanchor": "top"
         }
        ],
        "template": {
         "data": {
          "bar": [
           {
            "marker": {
             "line": {
              "color": "#E5ECF6",
              "width": 0.5
             }
            },
            "type": "bar"
           }
          ],
          "barpolar": [
           {
            "marker": {
             "line": {
              "color": "#E5ECF6",
              "width": 0.5
             }
            },
            "type": "barpolar"
           }
          ],
          "carpet": [
           {
            "aaxis": {
             "endlinecolor": "#2a3f5f",
             "gridcolor": "white",
             "linecolor": "white",
             "minorgridcolor": "white",
             "startlinecolor": "#2a3f5f"
            },
            "baxis": {
             "endlinecolor": "#2a3f5f",
             "gridcolor": "white",
             "linecolor": "white",
             "minorgridcolor": "white",
             "startlinecolor": "#2a3f5f"
            },
            "type": "carpet"
           }
          ],
          "choropleth": [
           {
            "colorbar": {
             "outlinewidth": 0,
             "ticks": ""
            },
            "type": "choropleth"
           }
          ],
          "contour": [
           {
            "colorbar": {
             "outlinewidth": 0,
             "ticks": ""
            },
            "colorscale": [
             [
              0,
              "#0508b8"
             ],
             [
              0.0893854748603352,
              "#1910d8"
             ],
             [
              0.1787709497206704,
              "#3c19f0"
             ],
             [
              0.2681564245810056,
              "#6b1cfb"
             ],
             [
              0.3575418994413408,
              "#981cfd"
             ],
             [
              0.44692737430167595,
              "#bf1cfd"
             ],
             [
              0.5363128491620112,
              "#dd2bfd"
             ],
             [
              0.6256983240223464,
              "#f246fe"
             ],
             [
              0.7150837988826816,
              "#fc67fd"
             ],
             [
              0.8044692737430168,
              "#fe88fc"
             ],
             [
              0.8938547486033519,
              "#fea5fd"
             ],
             [
              0.9832402234636871,
              "#febefe"
             ],
             [
              1,
              "#fec3fe"
             ]
            ],
            "type": "contour"
           }
          ],
          "contourcarpet": [
           {
            "colorbar": {
             "outlinewidth": 0,
             "ticks": ""
            },
            "type": "contourcarpet"
           }
          ],
          "heatmap": [
           {
            "colorbar": {
             "outlinewidth": 0,
             "ticks": ""
            },
            "colorscale": [
             [
              0,
              "#0508b8"
             ],
             [
              0.0893854748603352,
              "#1910d8"
             ],
             [
              0.1787709497206704,
              "#3c19f0"
             ],
             [
              0.2681564245810056,
              "#6b1cfb"
             ],
             [
              0.3575418994413408,
              "#981cfd"
             ],
             [
              0.44692737430167595,
              "#bf1cfd"
             ],
             [
              0.5363128491620112,
              "#dd2bfd"
             ],
             [
              0.6256983240223464,
              "#f246fe"
             ],
             [
              0.7150837988826816,
              "#fc67fd"
             ],
             [
              0.8044692737430168,
              "#fe88fc"
             ],
             [
              0.8938547486033519,
              "#fea5fd"
             ],
             [
              0.9832402234636871,
              "#febefe"
             ],
             [
              1,
              "#fec3fe"
             ]
            ],
            "type": "heatmap"
           }
          ],
          "heatmapgl": [
           {
            "colorbar": {
             "outlinewidth": 0,
             "ticks": ""
            },
            "type": "heatmapgl"
           }
          ],
          "histogram": [
           {
            "marker": {
             "colorbar": {
              "outlinewidth": 0,
              "ticks": ""
             }
            },
            "type": "histogram"
           }
          ],
          "histogram2d": [
           {
            "colorbar": {
             "outlinewidth": 0,
             "ticks": ""
            },
            "colorscale": [
             [
              0,
              "#0508b8"
             ],
             [
              0.0893854748603352,
              "#1910d8"
             ],
             [
              0.1787709497206704,
              "#3c19f0"
             ],
             [
              0.2681564245810056,
              "#6b1cfb"
             ],
             [
              0.3575418994413408,
              "#981cfd"
             ],
             [
              0.44692737430167595,
              "#bf1cfd"
             ],
             [
              0.5363128491620112,
              "#dd2bfd"
             ],
             [
              0.6256983240223464,
              "#f246fe"
             ],
             [
              0.7150837988826816,
              "#fc67fd"
             ],
             [
              0.8044692737430168,
              "#fe88fc"
             ],
             [
              0.8938547486033519,
              "#fea5fd"
             ],
             [
              0.9832402234636871,
              "#febefe"
             ],
             [
              1,
              "#fec3fe"
             ]
            ],
            "type": "histogram2d"
           }
          ],
          "histogram2dcontour": [
           {
            "colorbar": {
             "outlinewidth": 0,
             "ticks": ""
            },
            "colorscale": [
             [
              0,
              "#0508b8"
             ],
             [
              0.0893854748603352,
              "#1910d8"
             ],
             [
              0.1787709497206704,
              "#3c19f0"
             ],
             [
              0.2681564245810056,
              "#6b1cfb"
             ],
             [
              0.3575418994413408,
              "#981cfd"
             ],
             [
              0.44692737430167595,
              "#bf1cfd"
             ],
             [
              0.5363128491620112,
              "#dd2bfd"
             ],
             [
              0.6256983240223464,
              "#f246fe"
             ],
             [
              0.7150837988826816,
              "#fc67fd"
             ],
             [
              0.8044692737430168,
              "#fe88fc"
             ],
             [
              0.8938547486033519,
              "#fea5fd"
             ],
             [
              0.9832402234636871,
              "#febefe"
             ],
             [
              1,
              "#fec3fe"
             ]
            ],
            "type": "histogram2dcontour"
           }
          ],
          "mesh3d": [
           {
            "colorbar": {
             "outlinewidth": 0,
             "ticks": ""
            },
            "type": "mesh3d"
           }
          ],
          "parcoords": [
           {
            "line": {
             "colorbar": {
              "outlinewidth": 0,
              "ticks": ""
             }
            },
            "type": "parcoords"
           }
          ],
          "scatter": [
           {
            "marker": {
             "colorbar": {
              "outlinewidth": 0,
              "ticks": ""
             }
            },
            "type": "scatter"
           }
          ],
          "scatter3d": [
           {
            "marker": {
             "colorbar": {
              "outlinewidth": 0,
              "ticks": ""
             }
            },
            "type": "scatter3d"
           }
          ],
          "scattercarpet": [
           {
            "marker": {
             "colorbar": {
              "outlinewidth": 0,
              "ticks": ""
             }
            },
            "type": "scattercarpet"
           }
          ],
          "scattergeo": [
           {
            "marker": {
             "colorbar": {
              "outlinewidth": 0,
              "ticks": ""
             }
            },
            "type": "scattergeo"
           }
          ],
          "scattergl": [
           {
            "marker": {
             "colorbar": {
              "outlinewidth": 0,
              "ticks": ""
             }
            },
            "type": "scattergl"
           }
          ],
          "scattermapbox": [
           {
            "marker": {
             "colorbar": {
              "outlinewidth": 0,
              "ticks": ""
             }
            },
            "type": "scattermapbox"
           }
          ],
          "scatterpolar": [
           {
            "marker": {
             "colorbar": {
              "outlinewidth": 0,
              "ticks": ""
             }
            },
            "type": "scatterpolar"
           }
          ],
          "scatterpolargl": [
           {
            "marker": {
             "colorbar": {
              "outlinewidth": 0,
              "ticks": ""
             }
            },
            "type": "scatterpolargl"
           }
          ],
          "scatterternary": [
           {
            "marker": {
             "colorbar": {
              "outlinewidth": 0,
              "ticks": ""
             }
            },
            "type": "scatterternary"
           }
          ],
          "surface": [
           {
            "colorbar": {
             "outlinewidth": 0,
             "ticks": ""
            },
            "type": "surface"
           }
          ],
          "table": [
           {
            "cells": {
             "fill": {
              "color": "#EBF0F8"
             },
             "line": {
              "color": "white"
             }
            },
            "header": {
             "fill": {
              "color": "#C8D4E3"
             },
             "line": {
              "color": "white"
             }
            },
            "type": "table"
           }
          ]
         },
         "layout": {
          "annotationdefaults": {
           "arrowcolor": "#506784",
           "arrowhead": 0,
           "arrowwidth": 1
          },
          "colorscale": {
           "diverging": [
            [
             0,
             "#8e0152"
            ],
            [
             0.1,
             "#c51b7d"
            ],
            [
             0.2,
             "#de77ae"
            ],
            [
             0.3,
             "#f1b6da"
            ],
            [
             0.4,
             "#fde0ef"
            ],
            [
             0.5,
             "#f7f7f7"
            ],
            [
             0.6,
             "#e6f5d0"
            ],
            [
             0.7,
             "#b8e186"
            ],
            [
             0.8,
             "#7fbc41"
            ],
            [
             0.9,
             "#4d9221"
            ],
            [
             1,
             "#276419"
            ]
           ],
           "sequential": [
            [
             0,
             "#0508b8"
            ],
            [
             0.0893854748603352,
             "#1910d8"
            ],
            [
             0.1787709497206704,
             "#3c19f0"
            ],
            [
             0.2681564245810056,
             "#6b1cfb"
            ],
            [
             0.3575418994413408,
             "#981cfd"
            ],
            [
             0.44692737430167595,
             "#bf1cfd"
            ],
            [
             0.5363128491620112,
             "#dd2bfd"
            ],
            [
             0.6256983240223464,
             "#f246fe"
            ],
            [
             0.7150837988826816,
             "#fc67fd"
            ],
            [
             0.8044692737430168,
             "#fe88fc"
            ],
            [
             0.8938547486033519,
             "#fea5fd"
            ],
            [
             0.9832402234636871,
             "#febefe"
            ],
            [
             1,
             "#fec3fe"
            ]
           ],
           "sequentialminus": [
            [
             0,
             "#0508b8"
            ],
            [
             0.0893854748603352,
             "#1910d8"
            ],
            [
             0.1787709497206704,
             "#3c19f0"
            ],
            [
             0.2681564245810056,
             "#6b1cfb"
            ],
            [
             0.3575418994413408,
             "#981cfd"
            ],
            [
             0.44692737430167595,
             "#bf1cfd"
            ],
            [
             0.5363128491620112,
             "#dd2bfd"
            ],
            [
             0.6256983240223464,
             "#f246fe"
            ],
            [
             0.7150837988826816,
             "#fc67fd"
            ],
            [
             0.8044692737430168,
             "#fe88fc"
            ],
            [
             0.8938547486033519,
             "#fea5fd"
            ],
            [
             0.9832402234636871,
             "#febefe"
            ],
            [
             1,
             "#fec3fe"
            ]
           ]
          },
          "colorway": [
           "#636efa",
           "#EF553B",
           "#00cc96",
           "#ab63fa",
           "#19d3f3",
           "#e763fa",
           "#FECB52",
           "#FFA15A",
           "#FF6692",
           "#B6E880"
          ],
          "font": {
           "color": "#2a3f5f"
          },
          "geo": {
           "bgcolor": "white",
           "lakecolor": "white",
           "landcolor": "#E5ECF6",
           "showlakes": true,
           "showland": true,
           "subunitcolor": "white"
          },
          "hoverlabel": {
           "align": "left"
          },
          "hovermode": "closest",
          "mapbox": {
           "style": "light"
          },
          "paper_bgcolor": "white",
          "plot_bgcolor": "#E5ECF6",
          "polar": {
           "angularaxis": {
            "gridcolor": "white",
            "linecolor": "white",
            "ticks": ""
           },
           "bgcolor": "#E5ECF6",
           "radialaxis": {
            "gridcolor": "white",
            "linecolor": "white",
            "ticks": ""
           }
          },
          "scene": {
           "xaxis": {
            "backgroundcolor": "#E5ECF6",
            "gridcolor": "white",
            "gridwidth": 2,
            "linecolor": "white",
            "showbackground": true,
            "ticks": "",
            "zerolinecolor": "white"
           },
           "yaxis": {
            "backgroundcolor": "#E5ECF6",
            "gridcolor": "white",
            "gridwidth": 2,
            "linecolor": "white",
            "showbackground": true,
            "ticks": "",
            "zerolinecolor": "white"
           },
           "zaxis": {
            "backgroundcolor": "#E5ECF6",
            "gridcolor": "white",
            "gridwidth": 2,
            "linecolor": "white",
            "showbackground": true,
            "ticks": "",
            "zerolinecolor": "white"
           }
          },
          "shapedefaults": {
           "fillcolor": "#506784",
           "line": {
            "width": 0
           },
           "opacity": 0.4
          },
          "ternary": {
           "aaxis": {
            "gridcolor": "white",
            "linecolor": "white",
            "ticks": ""
           },
           "baxis": {
            "gridcolor": "white",
            "linecolor": "white",
            "ticks": ""
           },
           "bgcolor": "#E5ECF6",
           "caxis": {
            "gridcolor": "white",
            "linecolor": "white",
            "ticks": ""
           }
          },
          "title": {
           "x": 0.05
          },
          "xaxis": {
           "automargin": true,
           "gridcolor": "white",
           "linecolor": "white",
           "ticks": "",
           "zerolinecolor": "white",
           "zerolinewidth": 2
          },
          "yaxis": {
           "automargin": true,
           "gridcolor": "white",
           "linecolor": "white",
           "ticks": "",
           "zerolinecolor": "white",
           "zerolinewidth": 2
          }
         }
        },
        "updatemenus": [
         {
          "buttons": [
           {
            "args": [
             null,
             {
              "frame": {
               "duration": 500,
               "redraw": false
              },
              "fromcurrent": true,
              "mode": "immediate",
              "transition": {
               "duration": 500,
               "easing": "linear"
              }
             }
            ],
            "label": "&#9654;",
            "method": "animate"
           },
           {
            "args": [
             [
              null
             ],
             {
              "frame": {
               "duration": 0,
               "redraw": false
              },
              "fromcurrent": true,
              "mode": "immediate",
              "transition": {
               "duration": 0,
               "easing": "linear"
              }
             }
            ],
            "label": "&#9724;",
            "method": "animate"
           }
          ],
          "direction": "left",
          "pad": {
           "r": 10,
           "t": 70
          },
          "showactive": false,
          "type": "buttons",
          "x": 0.1,
          "xanchor": "right",
          "y": 0,
          "yanchor": "top"
         }
        ],
        "xaxis": {
         "title": {
          "text": "activity"
         }
        },
        "xaxis2": {
         "matches": "x",
         "title": {
          "text": "activity"
         }
        },
        "yaxis": {
         "title": {
          "text": "time"
         }
        }
       }
      },
      "text/html": [
       "<div>\n",
       "        \n",
       "        \n",
       "            <div id=\"a20b554a-ba89-4283-aeae-a410a543044e\" class=\"plotly-graph-div\" style=\"height:600px; width:100%;\"></div>\n",
       "            <script type=\"text/javascript\">\n",
       "                require([\"plotly\"], function(Plotly) {\n",
       "                    window.PLOTLYENV=window.PLOTLYENV || {};\n",
       "                    window.PLOTLYENV.BASE_URL='https://plot.ly';\n",
       "                    \n",
       "                if (document.getElementById(\"a20b554a-ba89-4283-aeae-a410a543044e\")) {\n",
       "                    Plotly.newPlot(\n",
       "                        'a20b554a-ba89-4283-aeae-a410a543044e',\n",
       "                        [{\"hoverlabel\": {\"namelength\": 0}, \"hovertemplate\": \"name=amy<br>date=2018-02-04<br>activity=%{x}<br>time=%{y}\", \"legendgroup\": \"name=amy\", \"marker\": {\"color\": \"#636efa\", \"symbol\": \"circle\"}, \"mode\": \"markers\", \"name\": \"name=amy\", \"showlegend\": true, \"type\": \"scatter\", \"uid\": \"9b55f641-34e6-4100-8070-9008abeee577\", \"x\": [\"cben\", \"csue\", \"i\", \"tprinter\"], \"xaxis\": \"x\", \"y\": [4, 1, 52, 1], \"yaxis\": \"y\"}, {\"hoverlabel\": {\"namelength\": 0}, \"hovertemplate\": \"name=zoe<br>date=2018-02-04<br>activity=%{x}<br>time=%{y}\", \"legendgroup\": \"name=zoe\", \"marker\": {\"color\": \"#EF553B\", \"symbol\": \"circle\"}, \"mode\": \"markers\", \"name\": \"name=zoe\", \"showlegend\": true, \"type\": \"scatter\", \"uid\": \"49e0d038-4322-45a1-8c72-d6e8a45798b0\", \"x\": [\"i\"], \"xaxis\": \"x2\", \"y\": [2], \"yaxis\": \"y\"}],\n",
       "                        {\"annotations\": [{\"showarrow\": false, \"text\": \"name=amy\", \"textangle\": 0, \"x\": 0.23684210526315788, \"xanchor\": \"center\", \"xref\": \"paper\", \"y\": 1.02, \"yanchor\": \"middle\", \"yref\": \"paper\"}, {\"showarrow\": false, \"text\": \"name=zoe\", \"textangle\": 0, \"x\": 0.763157894736842, \"xanchor\": \"center\", \"xref\": \"paper\", \"y\": 1.02, \"yanchor\": \"middle\", \"yref\": \"paper\"}], \"grid\": {\"xaxes\": [\"x\", \"x2\"], \"xgap\": 0.1, \"xside\": \"bottom\", \"yaxes\": [\"y\"], \"ygap\": 0.1, \"yside\": \"left\"}, \"height\": 600, \"legend\": {\"tracegroupgap\": 0}, \"margin\": {\"t\": 60}, \"sliders\": [{\"active\": 0, \"currentvalue\": {\"prefix\": \"date=\"}, \"len\": 0.9, \"pad\": {\"b\": 10, \"t\": 60}, \"steps\": [{\"args\": [[\"2018-02-04\"], {\"frame\": {\"duration\": 0, \"redraw\": false}, \"fromcurrent\": true, \"mode\": \"immediate\", \"transition\": {\"duration\": 0, \"easing\": \"linear\"}}], \"label\": \"2018-02-04\", \"method\": \"animate\"}, {\"args\": [[\"2018-02-05\"], {\"frame\": {\"duration\": 0, \"redraw\": false}, \"fromcurrent\": true, \"mode\": \"immediate\", \"transition\": {\"duration\": 0, \"easing\": \"linear\"}}], \"label\": \"2018-02-05\", \"method\": \"animate\"}, {\"args\": [[\"2018-02-06\"], {\"frame\": {\"duration\": 0, \"redraw\": false}, \"fromcurrent\": true, \"mode\": \"immediate\", \"transition\": {\"duration\": 0, \"easing\": \"linear\"}}], \"label\": \"2018-02-06\", \"method\": \"animate\"}, {\"args\": [[\"2018-02-08\"], {\"frame\": {\"duration\": 0, \"redraw\": false}, \"fromcurrent\": true, \"mode\": \"immediate\", \"transition\": {\"duration\": 0, \"easing\": \"linear\"}}], \"label\": \"2018-02-08\", \"method\": \"animate\"}, {\"args\": [[\"2018-02-22\"], {\"frame\": {\"duration\": 0, \"redraw\": false}, \"fromcurrent\": true, \"mode\": \"immediate\", \"transition\": {\"duration\": 0, \"easing\": \"linear\"}}], \"label\": \"2018-02-22\", \"method\": \"animate\"}, {\"args\": [[\"2018-02-26\"], {\"frame\": {\"duration\": 0, \"redraw\": false}, \"fromcurrent\": true, \"mode\": \"immediate\", \"transition\": {\"duration\": 0, \"easing\": \"linear\"}}], \"label\": \"2018-02-26\", \"method\": \"animate\"}, {\"args\": [[\"2018-02-27\"], {\"frame\": {\"duration\": 0, \"redraw\": false}, \"fromcurrent\": true, \"mode\": \"immediate\", \"transition\": {\"duration\": 0, \"easing\": \"linear\"}}], \"label\": \"2018-02-27\", \"method\": \"animate\"}, {\"args\": [[\"2018-02-28\"], {\"frame\": {\"duration\": 0, \"redraw\": false}, \"fromcurrent\": true, \"mode\": \"immediate\", \"transition\": {\"duration\": 0, \"easing\": \"linear\"}}], \"label\": \"2018-02-28\", \"method\": \"animate\"}, {\"args\": [[\"2018-03-05\"], {\"frame\": {\"duration\": 0, \"redraw\": false}, \"fromcurrent\": true, \"mode\": \"immediate\", \"transition\": {\"duration\": 0, \"easing\": \"linear\"}}], \"label\": \"2018-03-05\", \"method\": \"animate\"}, {\"args\": [[\"2018-03-06\"], {\"frame\": {\"duration\": 0, \"redraw\": false}, \"fromcurrent\": true, \"mode\": \"immediate\", \"transition\": {\"duration\": 0, \"easing\": \"linear\"}}], \"label\": \"2018-03-06\", \"method\": \"animate\"}, {\"args\": [[\"2018-03-07\"], {\"frame\": {\"duration\": 0, \"redraw\": false}, \"fromcurrent\": true, \"mode\": \"immediate\", \"transition\": {\"duration\": 0, \"easing\": \"linear\"}}], \"label\": \"2018-03-07\", \"method\": \"animate\"}, {\"args\": [[\"2018-03-08\"], {\"frame\": {\"duration\": 0, \"redraw\": false}, \"fromcurrent\": true, \"mode\": \"immediate\", \"transition\": {\"duration\": 0, \"easing\": \"linear\"}}], \"label\": \"2018-03-08\", \"method\": \"animate\"}, {\"args\": [[\"2018-03-09\"], {\"frame\": {\"duration\": 0, \"redraw\": false}, \"fromcurrent\": true, \"mode\": \"immediate\", \"transition\": {\"duration\": 0, \"easing\": \"linear\"}}], \"label\": \"2018-03-09\", \"method\": \"animate\"}, {\"args\": [[\"2018-03-16\"], {\"frame\": {\"duration\": 0, \"redraw\": false}, \"fromcurrent\": true, \"mode\": \"immediate\", \"transition\": {\"duration\": 0, \"easing\": \"linear\"}}], \"label\": \"2018-03-16\", \"method\": \"animate\"}, {\"args\": [[\"2018-03-20\"], {\"frame\": {\"duration\": 0, \"redraw\": false}, \"fromcurrent\": true, \"mode\": \"immediate\", \"transition\": {\"duration\": 0, \"easing\": \"linear\"}}], \"label\": \"2018-03-20\", \"method\": \"animate\"}, {\"args\": [[\"2018-03-22\"], {\"frame\": {\"duration\": 0, \"redraw\": false}, \"fromcurrent\": true, \"mode\": \"immediate\", \"transition\": {\"duration\": 0, \"easing\": \"linear\"}}], \"label\": \"2018-03-22\", \"method\": \"animate\"}, {\"args\": [[\"2018-03-23\"], {\"frame\": {\"duration\": 0, \"redraw\": false}, \"fromcurrent\": true, \"mode\": \"immediate\", \"transition\": {\"duration\": 0, \"easing\": \"linear\"}}], \"label\": \"2018-03-23\", \"method\": \"animate\"}, {\"args\": [[\"2018-03-24\"], {\"frame\": {\"duration\": 0, \"redraw\": false}, \"fromcurrent\": true, \"mode\": \"immediate\", \"transition\": {\"duration\": 0, \"easing\": \"linear\"}}], \"label\": \"2018-03-24\", \"method\": \"animate\"}, {\"args\": [[\"2018-03-26\"], {\"frame\": {\"duration\": 0, \"redraw\": false}, \"fromcurrent\": true, \"mode\": \"immediate\", \"transition\": {\"duration\": 0, \"easing\": \"linear\"}}], \"label\": \"2018-03-26\", \"method\": \"animate\"}, {\"args\": [[\"2018-04-03\"], {\"frame\": {\"duration\": 0, \"redraw\": false}, \"fromcurrent\": true, \"mode\": \"immediate\", \"transition\": {\"duration\": 0, \"easing\": \"linear\"}}], \"label\": \"2018-04-03\", \"method\": \"animate\"}, {\"args\": [[\"2018-04-08\"], {\"frame\": {\"duration\": 0, \"redraw\": false}, \"fromcurrent\": true, \"mode\": \"immediate\", \"transition\": {\"duration\": 0, \"easing\": \"linear\"}}], \"label\": \"2018-04-08\", \"method\": \"animate\"}, {\"args\": [[\"2018-04-09\"], {\"frame\": {\"duration\": 0, \"redraw\": false}, \"fromcurrent\": true, \"mode\": \"immediate\", \"transition\": {\"duration\": 0, \"easing\": \"linear\"}}], \"label\": \"2018-04-09\", \"method\": \"animate\"}, {\"args\": [[\"2018-04-10\"], {\"frame\": {\"duration\": 0, \"redraw\": false}, \"fromcurrent\": true, \"mode\": \"immediate\", \"transition\": {\"duration\": 0, \"easing\": \"linear\"}}], \"label\": \"2018-04-10\", \"method\": \"animate\"}, {\"args\": [[\"2018-04-13\"], {\"frame\": {\"duration\": 0, \"redraw\": false}, \"fromcurrent\": true, \"mode\": \"immediate\", \"transition\": {\"duration\": 0, \"easing\": \"linear\"}}], \"label\": \"2018-04-13\", \"method\": \"animate\"}, {\"args\": [[\"2018-04-14\"], {\"frame\": {\"duration\": 0, \"redraw\": false}, \"fromcurrent\": true, \"mode\": \"immediate\", \"transition\": {\"duration\": 0, \"easing\": \"linear\"}}], \"label\": \"2018-04-14\", \"method\": \"animate\"}, {\"args\": [[\"2018-04-15\"], {\"frame\": {\"duration\": 0, \"redraw\": false}, \"fromcurrent\": true, \"mode\": \"immediate\", \"transition\": {\"duration\": 0, \"easing\": \"linear\"}}], \"label\": \"2018-04-15\", \"method\": \"animate\"}, {\"args\": [[\"2018-04-16\"], {\"frame\": {\"duration\": 0, \"redraw\": false}, \"fromcurrent\": true, \"mode\": \"immediate\", \"transition\": {\"duration\": 0, \"easing\": \"linear\"}}], \"label\": \"2018-04-16\", \"method\": \"animate\"}, {\"args\": [[\"2018-04-17\"], {\"frame\": {\"duration\": 0, \"redraw\": false}, \"fromcurrent\": true, \"mode\": \"immediate\", \"transition\": {\"duration\": 0, \"easing\": \"linear\"}}], \"label\": \"2018-04-17\", \"method\": \"animate\"}, {\"args\": [[\"2018-04-21\"], {\"frame\": {\"duration\": 0, \"redraw\": false}, \"fromcurrent\": true, \"mode\": \"immediate\", \"transition\": {\"duration\": 0, \"easing\": \"linear\"}}], \"label\": \"2018-04-21\", \"method\": \"animate\"}, {\"args\": [[\"2018-04-24\"], {\"frame\": {\"duration\": 0, \"redraw\": false}, \"fromcurrent\": true, \"mode\": \"immediate\", \"transition\": {\"duration\": 0, \"easing\": \"linear\"}}], \"label\": \"2018-04-24\", \"method\": \"animate\"}, {\"args\": [[\"2018-04-25\"], {\"frame\": {\"duration\": 0, \"redraw\": false}, \"fromcurrent\": true, \"mode\": \"immediate\", \"transition\": {\"duration\": 0, \"easing\": \"linear\"}}], \"label\": \"2018-04-25\", \"method\": \"animate\"}, {\"args\": [[\"2018-02-02\"], {\"frame\": {\"duration\": 0, \"redraw\": false}, \"fromcurrent\": true, \"mode\": \"immediate\", \"transition\": {\"duration\": 0, \"easing\": \"linear\"}}], \"label\": \"2018-02-02\", \"method\": \"animate\"}, {\"args\": [[\"2018-02-03\"], {\"frame\": {\"duration\": 0, \"redraw\": false}, \"fromcurrent\": true, \"mode\": \"immediate\", \"transition\": {\"duration\": 0, \"easing\": \"linear\"}}], \"label\": \"2018-02-03\", \"method\": \"animate\"}, {\"args\": [[\"2018-02-07\"], {\"frame\": {\"duration\": 0, \"redraw\": false}, \"fromcurrent\": true, \"mode\": \"immediate\", \"transition\": {\"duration\": 0, \"easing\": \"linear\"}}], \"label\": \"2018-02-07\", \"method\": \"animate\"}, {\"args\": [[\"2018-02-09\"], {\"frame\": {\"duration\": 0, \"redraw\": false}, \"fromcurrent\": true, \"mode\": \"immediate\", \"transition\": {\"duration\": 0, \"easing\": \"linear\"}}], \"label\": \"2018-02-09\", \"method\": \"animate\"}, {\"args\": [[\"2018-02-11\"], {\"frame\": {\"duration\": 0, \"redraw\": false}, \"fromcurrent\": true, \"mode\": \"immediate\", \"transition\": {\"duration\": 0, \"easing\": \"linear\"}}], \"label\": \"2018-02-11\", \"method\": \"animate\"}, {\"args\": [[\"2018-02-14\"], {\"frame\": {\"duration\": 0, \"redraw\": false}, \"fromcurrent\": true, \"mode\": \"immediate\", \"transition\": {\"duration\": 0, \"easing\": \"linear\"}}], \"label\": \"2018-02-14\", \"method\": \"animate\"}, {\"args\": [[\"2018-02-15\"], {\"frame\": {\"duration\": 0, \"redraw\": false}, \"fromcurrent\": true, \"mode\": \"immediate\", \"transition\": {\"duration\": 0, \"easing\": \"linear\"}}], \"label\": \"2018-02-15\", \"method\": \"animate\"}, {\"args\": [[\"2018-02-16\"], {\"frame\": {\"duration\": 0, \"redraw\": false}, \"fromcurrent\": true, \"mode\": \"immediate\", \"transition\": {\"duration\": 0, \"easing\": \"linear\"}}], \"label\": \"2018-02-16\", \"method\": \"animate\"}, {\"args\": [[\"2018-02-17\"], {\"frame\": {\"duration\": 0, \"redraw\": false}, \"fromcurrent\": true, \"mode\": \"immediate\", \"transition\": {\"duration\": 0, \"easing\": \"linear\"}}], \"label\": \"2018-02-17\", \"method\": \"animate\"}, {\"args\": [[\"2018-02-19\"], {\"frame\": {\"duration\": 0, \"redraw\": false}, \"fromcurrent\": true, \"mode\": \"immediate\", \"transition\": {\"duration\": 0, \"easing\": \"linear\"}}], \"label\": \"2018-02-19\", \"method\": \"animate\"}, {\"args\": [[\"2018-02-20\"], {\"frame\": {\"duration\": 0, \"redraw\": false}, \"fromcurrent\": true, \"mode\": \"immediate\", \"transition\": {\"duration\": 0, \"easing\": \"linear\"}}], \"label\": \"2018-02-20\", \"method\": \"animate\"}, {\"args\": [[\"2018-02-21\"], {\"frame\": {\"duration\": 0, \"redraw\": false}, \"fromcurrent\": true, \"mode\": \"immediate\", \"transition\": {\"duration\": 0, \"easing\": \"linear\"}}], \"label\": \"2018-02-21\", \"method\": \"animate\"}, {\"args\": [[\"2018-02-23\"], {\"frame\": {\"duration\": 0, \"redraw\": false}, \"fromcurrent\": true, \"mode\": \"immediate\", \"transition\": {\"duration\": 0, \"easing\": \"linear\"}}], \"label\": \"2018-02-23\", \"method\": \"animate\"}, {\"args\": [[\"2018-02-25\"], {\"frame\": {\"duration\": 0, \"redraw\": false}, \"fromcurrent\": true, \"mode\": \"immediate\", \"transition\": {\"duration\": 0, \"easing\": \"linear\"}}], \"label\": \"2018-02-25\", \"method\": \"animate\"}, {\"args\": [[\"2018-03-02\"], {\"frame\": {\"duration\": 0, \"redraw\": false}, \"fromcurrent\": true, \"mode\": \"immediate\", \"transition\": {\"duration\": 0, \"easing\": \"linear\"}}], \"label\": \"2018-03-02\", \"method\": \"animate\"}, {\"args\": [[\"2018-03-03\"], {\"frame\": {\"duration\": 0, \"redraw\": false}, \"fromcurrent\": true, \"mode\": \"immediate\", \"transition\": {\"duration\": 0, \"easing\": \"linear\"}}], \"label\": \"2018-03-03\", \"method\": \"animate\"}, {\"args\": [[\"2018-03-04\"], {\"frame\": {\"duration\": 0, \"redraw\": false}, \"fromcurrent\": true, \"mode\": \"immediate\", \"transition\": {\"duration\": 0, \"easing\": \"linear\"}}], \"label\": \"2018-03-04\", \"method\": \"animate\"}, {\"args\": [[\"2018-03-30\"], {\"frame\": {\"duration\": 0, \"redraw\": false}, \"fromcurrent\": true, \"mode\": \"immediate\", \"transition\": {\"duration\": 0, \"easing\": \"linear\"}}], \"label\": \"2018-03-30\", \"method\": \"animate\"}, {\"args\": [[\"2018-04-02\"], {\"frame\": {\"duration\": 0, \"redraw\": false}, \"fromcurrent\": true, \"mode\": \"immediate\", \"transition\": {\"duration\": 0, \"easing\": \"linear\"}}], \"label\": \"2018-04-02\", \"method\": \"animate\"}, {\"args\": [[\"2018-04-04\"], {\"frame\": {\"duration\": 0, \"redraw\": false}, \"fromcurrent\": true, \"mode\": \"immediate\", \"transition\": {\"duration\": 0, \"easing\": \"linear\"}}], \"label\": \"2018-04-04\", \"method\": \"animate\"}, {\"args\": [[\"2018-04-06\"], {\"frame\": {\"duration\": 0, \"redraw\": false}, \"fromcurrent\": true, \"mode\": \"immediate\", \"transition\": {\"duration\": 0, \"easing\": \"linear\"}}], \"label\": \"2018-04-06\", \"method\": \"animate\"}, {\"args\": [[\"2018-04-11\"], {\"frame\": {\"duration\": 0, \"redraw\": false}, \"fromcurrent\": true, \"mode\": \"immediate\", \"transition\": {\"duration\": 0, \"easing\": \"linear\"}}], \"label\": \"2018-04-11\", \"method\": \"animate\"}, {\"args\": [[\"2018-04-19\"], {\"frame\": {\"duration\": 0, \"redraw\": false}, \"fromcurrent\": true, \"mode\": \"immediate\", \"transition\": {\"duration\": 0, \"easing\": \"linear\"}}], \"label\": \"2018-04-19\", \"method\": \"animate\"}, {\"args\": [[\"2018-04-23\"], {\"frame\": {\"duration\": 0, \"redraw\": false}, \"fromcurrent\": true, \"mode\": \"immediate\", \"transition\": {\"duration\": 0, \"easing\": \"linear\"}}], \"label\": \"2018-04-23\", \"method\": \"animate\"}], \"x\": 0.1, \"xanchor\": \"left\", \"y\": 0, \"yanchor\": \"top\"}], \"template\": {\"data\": {\"bar\": [{\"marker\": {\"line\": {\"color\": \"#E5ECF6\", \"width\": 0.5}}, \"type\": \"bar\"}], \"barpolar\": [{\"marker\": {\"line\": {\"color\": \"#E5ECF6\", \"width\": 0.5}}, \"type\": \"barpolar\"}], \"carpet\": [{\"aaxis\": {\"endlinecolor\": \"#2a3f5f\", \"gridcolor\": \"white\", \"linecolor\": \"white\", \"minorgridcolor\": \"white\", \"startlinecolor\": \"#2a3f5f\"}, \"baxis\": {\"endlinecolor\": \"#2a3f5f\", \"gridcolor\": \"white\", \"linecolor\": \"white\", \"minorgridcolor\": \"white\", \"startlinecolor\": \"#2a3f5f\"}, \"type\": \"carpet\"}], \"choropleth\": [{\"colorbar\": {\"outlinewidth\": 0, \"ticks\": \"\"}, \"type\": \"choropleth\"}], \"contour\": [{\"colorbar\": {\"outlinewidth\": 0, \"ticks\": \"\"}, \"colorscale\": [[0.0, \"#0508b8\"], [0.0893854748603352, \"#1910d8\"], [0.1787709497206704, \"#3c19f0\"], [0.2681564245810056, \"#6b1cfb\"], [0.3575418994413408, \"#981cfd\"], [0.44692737430167595, \"#bf1cfd\"], [0.5363128491620112, \"#dd2bfd\"], [0.6256983240223464, \"#f246fe\"], [0.7150837988826816, \"#fc67fd\"], [0.8044692737430168, \"#fe88fc\"], [0.8938547486033519, \"#fea5fd\"], [0.9832402234636871, \"#febefe\"], [1.0, \"#fec3fe\"]], \"type\": \"contour\"}], \"contourcarpet\": [{\"colorbar\": {\"outlinewidth\": 0, \"ticks\": \"\"}, \"type\": \"contourcarpet\"}], \"heatmap\": [{\"colorbar\": {\"outlinewidth\": 0, \"ticks\": \"\"}, \"colorscale\": [[0.0, \"#0508b8\"], [0.0893854748603352, \"#1910d8\"], [0.1787709497206704, \"#3c19f0\"], [0.2681564245810056, \"#6b1cfb\"], [0.3575418994413408, \"#981cfd\"], [0.44692737430167595, \"#bf1cfd\"], [0.5363128491620112, \"#dd2bfd\"], [0.6256983240223464, \"#f246fe\"], [0.7150837988826816, \"#fc67fd\"], [0.8044692737430168, \"#fe88fc\"], [0.8938547486033519, \"#fea5fd\"], [0.9832402234636871, \"#febefe\"], [1.0, \"#fec3fe\"]], \"type\": \"heatmap\"}], \"heatmapgl\": [{\"colorbar\": {\"outlinewidth\": 0, \"ticks\": \"\"}, \"type\": \"heatmapgl\"}], \"histogram\": [{\"marker\": {\"colorbar\": {\"outlinewidth\": 0, \"ticks\": \"\"}}, \"type\": \"histogram\"}], \"histogram2d\": [{\"colorbar\": {\"outlinewidth\": 0, \"ticks\": \"\"}, \"colorscale\": [[0.0, \"#0508b8\"], [0.0893854748603352, \"#1910d8\"], [0.1787709497206704, \"#3c19f0\"], [0.2681564245810056, \"#6b1cfb\"], [0.3575418994413408, \"#981cfd\"], [0.44692737430167595, \"#bf1cfd\"], [0.5363128491620112, \"#dd2bfd\"], [0.6256983240223464, \"#f246fe\"], [0.7150837988826816, \"#fc67fd\"], [0.8044692737430168, \"#fe88fc\"], [0.8938547486033519, \"#fea5fd\"], [0.9832402234636871, \"#febefe\"], [1.0, \"#fec3fe\"]], \"type\": \"histogram2d\"}], \"histogram2dcontour\": [{\"colorbar\": {\"outlinewidth\": 0, \"ticks\": \"\"}, \"colorscale\": [[0.0, \"#0508b8\"], [0.0893854748603352, \"#1910d8\"], [0.1787709497206704, \"#3c19f0\"], [0.2681564245810056, \"#6b1cfb\"], [0.3575418994413408, \"#981cfd\"], [0.44692737430167595, \"#bf1cfd\"], [0.5363128491620112, \"#dd2bfd\"], [0.6256983240223464, \"#f246fe\"], [0.7150837988826816, \"#fc67fd\"], [0.8044692737430168, \"#fe88fc\"], [0.8938547486033519, \"#fea5fd\"], [0.9832402234636871, \"#febefe\"], [1.0, \"#fec3fe\"]], \"type\": \"histogram2dcontour\"}], \"mesh3d\": [{\"colorbar\": {\"outlinewidth\": 0, \"ticks\": \"\"}, \"type\": \"mesh3d\"}], \"parcoords\": [{\"line\": {\"colorbar\": {\"outlinewidth\": 0, \"ticks\": \"\"}}, \"type\": \"parcoords\"}], \"scatter\": [{\"marker\": {\"colorbar\": {\"outlinewidth\": 0, \"ticks\": \"\"}}, \"type\": \"scatter\"}], \"scatter3d\": [{\"marker\": {\"colorbar\": {\"outlinewidth\": 0, \"ticks\": \"\"}}, \"type\": \"scatter3d\"}], \"scattercarpet\": [{\"marker\": {\"colorbar\": {\"outlinewidth\": 0, \"ticks\": \"\"}}, \"type\": \"scattercarpet\"}], \"scattergeo\": [{\"marker\": {\"colorbar\": {\"outlinewidth\": 0, \"ticks\": \"\"}}, \"type\": \"scattergeo\"}], \"scattergl\": [{\"marker\": {\"colorbar\": {\"outlinewidth\": 0, \"ticks\": \"\"}}, \"type\": \"scattergl\"}], \"scattermapbox\": [{\"marker\": {\"colorbar\": {\"outlinewidth\": 0, \"ticks\": \"\"}}, \"type\": \"scattermapbox\"}], \"scatterpolar\": [{\"marker\": {\"colorbar\": {\"outlinewidth\": 0, \"ticks\": \"\"}}, \"type\": \"scatterpolar\"}], \"scatterpolargl\": [{\"marker\": {\"colorbar\": {\"outlinewidth\": 0, \"ticks\": \"\"}}, \"type\": \"scatterpolargl\"}], \"scatterternary\": [{\"marker\": {\"colorbar\": {\"outlinewidth\": 0, \"ticks\": \"\"}}, \"type\": \"scatterternary\"}], \"surface\": [{\"colorbar\": {\"outlinewidth\": 0, \"ticks\": \"\"}, \"type\": \"surface\"}], \"table\": [{\"cells\": {\"fill\": {\"color\": \"#EBF0F8\"}, \"line\": {\"color\": \"white\"}}, \"header\": {\"fill\": {\"color\": \"#C8D4E3\"}, \"line\": {\"color\": \"white\"}}, \"type\": \"table\"}]}, \"layout\": {\"annotationdefaults\": {\"arrowcolor\": \"#506784\", \"arrowhead\": 0, \"arrowwidth\": 1}, \"colorscale\": {\"diverging\": [[0, \"#8e0152\"], [0.1, \"#c51b7d\"], [0.2, \"#de77ae\"], [0.3, \"#f1b6da\"], [0.4, \"#fde0ef\"], [0.5, \"#f7f7f7\"], [0.6, \"#e6f5d0\"], [0.7, \"#b8e186\"], [0.8, \"#7fbc41\"], [0.9, \"#4d9221\"], [1, \"#276419\"]], \"sequential\": [[0.0, \"#0508b8\"], [0.0893854748603352, \"#1910d8\"], [0.1787709497206704, \"#3c19f0\"], [0.2681564245810056, \"#6b1cfb\"], [0.3575418994413408, \"#981cfd\"], [0.44692737430167595, \"#bf1cfd\"], [0.5363128491620112, \"#dd2bfd\"], [0.6256983240223464, \"#f246fe\"], [0.7150837988826816, \"#fc67fd\"], [0.8044692737430168, \"#fe88fc\"], [0.8938547486033519, \"#fea5fd\"], [0.9832402234636871, \"#febefe\"], [1.0, \"#fec3fe\"]], \"sequentialminus\": [[0.0, \"#0508b8\"], [0.0893854748603352, \"#1910d8\"], [0.1787709497206704, \"#3c19f0\"], [0.2681564245810056, \"#6b1cfb\"], [0.3575418994413408, \"#981cfd\"], [0.44692737430167595, \"#bf1cfd\"], [0.5363128491620112, \"#dd2bfd\"], [0.6256983240223464, \"#f246fe\"], [0.7150837988826816, \"#fc67fd\"], [0.8044692737430168, \"#fe88fc\"], [0.8938547486033519, \"#fea5fd\"], [0.9832402234636871, \"#febefe\"], [1.0, \"#fec3fe\"]]}, \"colorway\": [\"#636efa\", \"#EF553B\", \"#00cc96\", \"#ab63fa\", \"#19d3f3\", \"#e763fa\", \"#FECB52\", \"#FFA15A\", \"#FF6692\", \"#B6E880\"], \"font\": {\"color\": \"#2a3f5f\"}, \"geo\": {\"bgcolor\": \"white\", \"lakecolor\": \"white\", \"landcolor\": \"#E5ECF6\", \"showlakes\": true, \"showland\": true, \"subunitcolor\": \"white\"}, \"hoverlabel\": {\"align\": \"left\"}, \"hovermode\": \"closest\", \"mapbox\": {\"style\": \"light\"}, \"paper_bgcolor\": \"white\", \"plot_bgcolor\": \"#E5ECF6\", \"polar\": {\"angularaxis\": {\"gridcolor\": \"white\", \"linecolor\": \"white\", \"ticks\": \"\"}, \"bgcolor\": \"#E5ECF6\", \"radialaxis\": {\"gridcolor\": \"white\", \"linecolor\": \"white\", \"ticks\": \"\"}}, \"scene\": {\"xaxis\": {\"backgroundcolor\": \"#E5ECF6\", \"gridcolor\": \"white\", \"gridwidth\": 2, \"linecolor\": \"white\", \"showbackground\": true, \"ticks\": \"\", \"zerolinecolor\": \"white\"}, \"yaxis\": {\"backgroundcolor\": \"#E5ECF6\", \"gridcolor\": \"white\", \"gridwidth\": 2, \"linecolor\": \"white\", \"showbackground\": true, \"ticks\": \"\", \"zerolinecolor\": \"white\"}, \"zaxis\": {\"backgroundcolor\": \"#E5ECF6\", \"gridcolor\": \"white\", \"gridwidth\": 2, \"linecolor\": \"white\", \"showbackground\": true, \"ticks\": \"\", \"zerolinecolor\": \"white\"}}, \"shapedefaults\": {\"fillcolor\": \"#506784\", \"line\": {\"width\": 0}, \"opacity\": 0.4}, \"ternary\": {\"aaxis\": {\"gridcolor\": \"white\", \"linecolor\": \"white\", \"ticks\": \"\"}, \"baxis\": {\"gridcolor\": \"white\", \"linecolor\": \"white\", \"ticks\": \"\"}, \"bgcolor\": \"#E5ECF6\", \"caxis\": {\"gridcolor\": \"white\", \"linecolor\": \"white\", \"ticks\": \"\"}}, \"title\": {\"x\": 0.05}, \"xaxis\": {\"automargin\": true, \"gridcolor\": \"white\", \"linecolor\": \"white\", \"ticks\": \"\", \"zerolinecolor\": \"white\", \"zerolinewidth\": 2}, \"yaxis\": {\"automargin\": true, \"gridcolor\": \"white\", \"linecolor\": \"white\", \"ticks\": \"\", \"zerolinecolor\": \"white\", \"zerolinewidth\": 2}}}, \"updatemenus\": [{\"buttons\": [{\"args\": [null, {\"frame\": {\"duration\": 500, \"redraw\": false}, \"fromcurrent\": true, \"mode\": \"immediate\", \"transition\": {\"duration\": 500, \"easing\": \"linear\"}}], \"label\": \"&#9654;\", \"method\": \"animate\"}, {\"args\": [[null], {\"frame\": {\"duration\": 0, \"redraw\": false}, \"fromcurrent\": true, \"mode\": \"immediate\", \"transition\": {\"duration\": 0, \"easing\": \"linear\"}}], \"label\": \"&#9724;\", \"method\": \"animate\"}], \"direction\": \"left\", \"pad\": {\"r\": 10, \"t\": 70}, \"showactive\": false, \"type\": \"buttons\", \"x\": 0.1, \"xanchor\": \"right\", \"y\": 0, \"yanchor\": \"top\"}], \"xaxis\": {\"title\": {\"text\": \"activity\"}}, \"xaxis2\": {\"matches\": \"x\", \"title\": {\"text\": \"activity\"}}, \"yaxis\": {\"title\": {\"text\": \"time\"}}},\n",
       "                        {\"showLink\": false, \"linkText\": \"Export to plot.ly\", \"plotlyServerURL\": \"https://plot.ly\", \"responsive\": true}\n",
       "                    ).then(function(){\n",
       "                            Plotly.addFrames('a20b554a-ba89-4283-aeae-a410a543044e', [{\"data\": [{\"hoverlabel\": {\"namelength\": 0}, \"hovertemplate\": \"name=amy<br>date=2018-02-04<br>activity=%{x}<br>time=%{y}\", \"legendgroup\": \"name=amy\", \"marker\": {\"color\": \"#636efa\", \"symbol\": \"circle\"}, \"mode\": \"markers\", \"name\": \"name=amy\", \"showlegend\": true, \"x\": [\"cben\", \"csue\", \"i\", \"tprinter\"], \"xaxis\": \"x\", \"y\": [4, 1, 52, 1], \"yaxis\": \"y\", \"type\": \"scatter\"}, {\"hoverlabel\": {\"namelength\": 0}, \"hovertemplate\": \"name=zoe<br>date=2018-02-04<br>activity=%{x}<br>time=%{y}\", \"legendgroup\": \"name=zoe\", \"marker\": {\"color\": \"#EF553B\", \"symbol\": \"circle\"}, \"mode\": \"markers\", \"name\": \"name=zoe\", \"showlegend\": true, \"x\": [\"i\"], \"xaxis\": \"x2\", \"y\": [2], \"yaxis\": \"y\", \"type\": \"scatter\"}], \"name\": \"2018-02-04\"}, {\"data\": [{\"hoverlabel\": {\"namelength\": 0}, \"hovertemplate\": \"name=amy<br>date=2018-02-05<br>activity=%{x}<br>time=%{y}\", \"legendgroup\": \"name=amy\", \"marker\": {\"color\": \"#636efa\", \"symbol\": \"circle\"}, \"mode\": \"markers\", \"name\": \"name=amy\", \"showlegend\": true, \"x\": [\"cben\", \"i\"], \"xaxis\": \"x\", \"y\": [1, 3], \"yaxis\": \"y\", \"type\": \"scatter\"}, {\"hoverlabel\": {\"namelength\": 0}, \"hovertemplate\": \"name=zoe<br>date=2018-02-05<br>activity=%{x}<br>time=%{y}\", \"legendgroup\": \"name=zoe\", \"marker\": {\"color\": \"#EF553B\", \"symbol\": \"circle\"}, \"mode\": \"markers\", \"name\": \"name=zoe\", \"showlegend\": true, \"x\": [\"cben\", \"i\"], \"xaxis\": \"x2\", \"y\": [1, 5], \"yaxis\": \"y\", \"type\": \"scatter\"}], \"name\": \"2018-02-05\"}, {\"data\": [{\"hoverlabel\": {\"namelength\": 0}, \"hovertemplate\": \"name=amy<br>date=2018-02-06<br>activity=%{x}<br>time=%{y}\", \"legendgroup\": \"name=amy\", \"marker\": {\"color\": \"#636efa\", \"symbol\": \"circle\"}, \"mode\": \"markers\", \"name\": \"name=amy\", \"showlegend\": true, \"x\": [\"cben\", \"i\"], \"xaxis\": \"x\", \"y\": [3, 59], \"yaxis\": \"y\", \"type\": \"scatter\"}, {\"hoverlabel\": {\"namelength\": 0}, \"hovertemplate\": \"name=zoe<br>date=2018-02-06<br>activity=%{x}<br>time=%{y}\", \"legendgroup\": \"name=zoe\", \"marker\": {\"color\": \"#EF553B\", \"symbol\": \"circle\"}, \"mode\": \"markers\", \"name\": \"name=zoe\", \"showlegend\": true, \"x\": [\"cben\", \"i\"], \"xaxis\": \"x2\", \"y\": [3, 95], \"yaxis\": \"y\", \"type\": \"scatter\"}], \"name\": \"2018-02-06\"}, {\"data\": [{\"hoverlabel\": {\"namelength\": 0}, \"hovertemplate\": \"name=amy<br>date=2018-02-08<br>activity=%{x}<br>time=%{y}\", \"legendgroup\": \"name=amy\", \"marker\": {\"color\": \"#636efa\", \"symbol\": \"circle\"}, \"mode\": \"markers\", \"name\": \"name=amy\", \"showlegend\": true, \"x\": [\"i\", \"tprinter\"], \"xaxis\": \"x\", \"y\": [2, 1], \"yaxis\": \"y\", \"type\": \"scatter\"}], \"name\": \"2018-02-08\"}, {\"data\": [{\"hoverlabel\": {\"namelength\": 0}, \"hovertemplate\": \"name=amy<br>date=2018-02-22<br>activity=%{x}<br>time=%{y}\", \"legendgroup\": \"name=amy\", \"marker\": {\"color\": \"#636efa\", \"symbol\": \"circle\"}, \"mode\": \"markers\", \"name\": \"name=amy\", \"showlegend\": true, \"x\": [\"i\"], \"xaxis\": \"x\", \"y\": [1], \"yaxis\": \"y\", \"type\": \"scatter\"}], \"name\": \"2018-02-22\"}, {\"data\": [{\"hoverlabel\": {\"namelength\": 0}, \"hovertemplate\": \"name=amy<br>date=2018-02-26<br>activity=%{x}<br>time=%{y}\", \"legendgroup\": \"name=amy\", \"marker\": {\"color\": \"#636efa\", \"symbol\": \"circle\"}, \"mode\": \"markers\", \"name\": \"name=amy\", \"showlegend\": true, \"x\": [\"i\"], \"xaxis\": \"x\", \"y\": [10], \"yaxis\": \"y\", \"type\": \"scatter\"}], \"name\": \"2018-02-26\"}, {\"data\": [{\"hoverlabel\": {\"namelength\": 0}, \"hovertemplate\": \"name=amy<br>date=2018-02-27<br>activity=%{x}<br>time=%{y}\", \"legendgroup\": \"name=amy\", \"marker\": {\"color\": \"#636efa\", \"symbol\": \"circle\"}, \"mode\": \"markers\", \"name\": \"name=amy\", \"showlegend\": true, \"x\": [\"i\"], \"xaxis\": \"x\", \"y\": [2], \"yaxis\": \"y\", \"type\": \"scatter\"}, {\"hoverlabel\": {\"namelength\": 0}, \"hovertemplate\": \"name=zoe<br>date=2018-02-27<br>activity=%{x}<br>time=%{y}\", \"legendgroup\": \"name=zoe\", \"marker\": {\"color\": \"#EF553B\", \"symbol\": \"circle\"}, \"mode\": \"markers\", \"name\": \"name=zoe\", \"showlegend\": true, \"x\": [\"i\"], \"xaxis\": \"x2\", \"y\": [8], \"yaxis\": \"y\", \"type\": \"scatter\"}], \"name\": \"2018-02-27\"}, {\"data\": [{\"hoverlabel\": {\"namelength\": 0}, \"hovertemplate\": \"name=amy<br>date=2018-02-28<br>activity=%{x}<br>time=%{y}\", \"legendgroup\": \"name=amy\", \"marker\": {\"color\": \"#636efa\", \"symbol\": \"circle\"}, \"mode\": \"markers\", \"name\": \"name=amy\", \"showlegend\": true, \"x\": [\"cben\", \"i\"], \"xaxis\": \"x\", \"y\": [5, 75], \"yaxis\": \"y\", \"type\": \"scatter\"}, {\"hoverlabel\": {\"namelength\": 0}, \"hovertemplate\": \"name=zoe<br>date=2018-02-28<br>activity=%{x}<br>time=%{y}\", \"legendgroup\": \"name=zoe\", \"marker\": {\"color\": \"#EF553B\", \"symbol\": \"circle\"}, \"mode\": \"markers\", \"name\": \"name=zoe\", \"showlegend\": true, \"x\": [\"i\"], \"xaxis\": \"x2\", \"y\": [3], \"yaxis\": \"y\", \"type\": \"scatter\"}], \"name\": \"2018-02-28\"}, {\"data\": [{\"hoverlabel\": {\"namelength\": 0}, \"hovertemplate\": \"name=amy<br>date=2018-03-05<br>activity=%{x}<br>time=%{y}\", \"legendgroup\": \"name=amy\", \"marker\": {\"color\": \"#636efa\", \"symbol\": \"circle\"}, \"mode\": \"markers\", \"name\": \"name=amy\", \"showlegend\": true, \"x\": [\"i\"], \"xaxis\": \"x\", \"y\": [25], \"yaxis\": \"y\", \"type\": \"scatter\"}], \"name\": \"2018-03-05\"}, {\"data\": [{\"hoverlabel\": {\"namelength\": 0}, \"hovertemplate\": \"name=amy<br>date=2018-03-06<br>activity=%{x}<br>time=%{y}\", \"legendgroup\": \"name=amy\", \"marker\": {\"color\": \"#636efa\", \"symbol\": \"circle\"}, \"mode\": \"markers\", \"name\": \"name=amy\", \"showlegend\": true, \"x\": [\"cben\", \"csue\", \"i\"], \"xaxis\": \"x\", \"y\": [7, 2, 255], \"yaxis\": \"y\", \"type\": \"scatter\"}, {\"hoverlabel\": {\"namelength\": 0}, \"hovertemplate\": \"name=zoe<br>date=2018-03-06<br>activity=%{x}<br>time=%{y}\", \"legendgroup\": \"name=zoe\", \"marker\": {\"color\": \"#EF553B\", \"symbol\": \"circle\"}, \"mode\": \"markers\", \"name\": \"name=zoe\", \"showlegend\": true, \"x\": [\"i\"], \"xaxis\": \"x2\", \"y\": [9], \"yaxis\": \"y\", \"type\": \"scatter\"}], \"name\": \"2018-03-06\"}, {\"data\": [{\"hoverlabel\": {\"namelength\": 0}, \"hovertemplate\": \"name=amy<br>date=2018-03-07<br>activity=%{x}<br>time=%{y}\", \"legendgroup\": \"name=amy\", \"marker\": {\"color\": \"#636efa\", \"symbol\": \"circle\"}, \"mode\": \"markers\", \"name\": \"name=amy\", \"showlegend\": true, \"x\": [\"cben\", \"i\"], \"xaxis\": \"x\", \"y\": [1, 35], \"yaxis\": \"y\", \"type\": \"scatter\"}, {\"hoverlabel\": {\"namelength\": 0}, \"hovertemplate\": \"name=zoe<br>date=2018-03-07<br>activity=%{x}<br>time=%{y}\", \"legendgroup\": \"name=zoe\", \"marker\": {\"color\": \"#EF553B\", \"symbol\": \"circle\"}, \"mode\": \"markers\", \"name\": \"name=zoe\", \"showlegend\": true, \"x\": [\"i\", \"tprinter\"], \"xaxis\": \"x2\", \"y\": [42, 3], \"yaxis\": \"y\", \"type\": \"scatter\"}], \"name\": \"2018-03-07\"}, {\"data\": [{\"hoverlabel\": {\"namelength\": 0}, \"hovertemplate\": \"name=amy<br>date=2018-03-08<br>activity=%{x}<br>time=%{y}\", \"legendgroup\": \"name=amy\", \"marker\": {\"color\": \"#636efa\", \"symbol\": \"circle\"}, \"mode\": \"markers\", \"name\": \"name=amy\", \"showlegend\": true, \"x\": [\"i\"], \"xaxis\": \"x\", \"y\": [24], \"yaxis\": \"y\", \"type\": \"scatter\"}, {\"hoverlabel\": {\"namelength\": 0}, \"hovertemplate\": \"name=zoe<br>date=2018-03-08<br>activity=%{x}<br>time=%{y}\", \"legendgroup\": \"name=zoe\", \"marker\": {\"color\": \"#EF553B\", \"symbol\": \"circle\"}, \"mode\": \"markers\", \"name\": \"name=zoe\", \"showlegend\": true, \"x\": [\"cben\", \"i\"], \"xaxis\": \"x2\", \"y\": [1, 83], \"yaxis\": \"y\", \"type\": \"scatter\"}], \"name\": \"2018-03-08\"}, {\"data\": [{\"hoverlabel\": {\"namelength\": 0}, \"hovertemplate\": \"name=amy<br>date=2018-03-09<br>activity=%{x}<br>time=%{y}\", \"legendgroup\": \"name=amy\", \"marker\": {\"color\": \"#636efa\", \"symbol\": \"circle\"}, \"mode\": \"markers\", \"name\": \"name=amy\", \"showlegend\": true, \"x\": [\"i\"], \"xaxis\": \"x\", \"y\": [1], \"yaxis\": \"y\", \"type\": \"scatter\"}], \"name\": \"2018-03-09\"}, {\"data\": [{\"hoverlabel\": {\"namelength\": 0}, \"hovertemplate\": \"name=amy<br>date=2018-03-16<br>activity=%{x}<br>time=%{y}\", \"legendgroup\": \"name=amy\", \"marker\": {\"color\": \"#636efa\", \"symbol\": \"circle\"}, \"mode\": \"markers\", \"name\": \"name=amy\", \"showlegend\": true, \"x\": [\"i\"], \"xaxis\": \"x\", \"y\": [1], \"yaxis\": \"y\", \"type\": \"scatter\"}], \"name\": \"2018-03-16\"}, {\"data\": [{\"hoverlabel\": {\"namelength\": 0}, \"hovertemplate\": \"name=amy<br>date=2018-03-20<br>activity=%{x}<br>time=%{y}\", \"legendgroup\": \"name=amy\", \"marker\": {\"color\": \"#636efa\", \"symbol\": \"circle\"}, \"mode\": \"markers\", \"name\": \"name=amy\", \"showlegend\": true, \"x\": [\"i\"], \"xaxis\": \"x\", \"y\": [3], \"yaxis\": \"y\", \"type\": \"scatter\"}, {\"hoverlabel\": {\"namelength\": 0}, \"hovertemplate\": \"name=zoe<br>date=2018-03-20<br>activity=%{x}<br>time=%{y}\", \"legendgroup\": \"name=zoe\", \"marker\": {\"color\": \"#EF553B\", \"symbol\": \"circle\"}, \"mode\": \"markers\", \"name\": \"name=zoe\", \"showlegend\": true, \"x\": [\"i\"], \"xaxis\": \"x2\", \"y\": [3], \"yaxis\": \"y\", \"type\": \"scatter\"}], \"name\": \"2018-03-20\"}, {\"data\": [{\"hoverlabel\": {\"namelength\": 0}, \"hovertemplate\": \"name=amy<br>date=2018-03-22<br>activity=%{x}<br>time=%{y}\", \"legendgroup\": \"name=amy\", \"marker\": {\"color\": \"#636efa\", \"symbol\": \"circle\"}, \"mode\": \"markers\", \"name\": \"name=amy\", \"showlegend\": true, \"x\": [\"csue\", \"i\"], \"xaxis\": \"x\", \"y\": [12, 27], \"yaxis\": \"y\", \"type\": \"scatter\"}], \"name\": \"2018-03-22\"}, {\"data\": [{\"hoverlabel\": {\"namelength\": 0}, \"hovertemplate\": \"name=amy<br>date=2018-03-23<br>activity=%{x}<br>time=%{y}\", \"legendgroup\": \"name=amy\", \"marker\": {\"color\": \"#636efa\", \"symbol\": \"circle\"}, \"mode\": \"markers\", \"name\": \"name=amy\", \"showlegend\": true, \"x\": [\"i\", \"tprinter\"], \"xaxis\": \"x\", \"y\": [52, 2], \"yaxis\": \"y\", \"type\": \"scatter\"}], \"name\": \"2018-03-23\"}, {\"data\": [{\"hoverlabel\": {\"namelength\": 0}, \"hovertemplate\": \"name=amy<br>date=2018-03-24<br>activity=%{x}<br>time=%{y}\", \"legendgroup\": \"name=amy\", \"marker\": {\"color\": \"#636efa\", \"symbol\": \"circle\"}, \"mode\": \"markers\", \"name\": \"name=amy\", \"showlegend\": true, \"x\": [\"i\"], \"xaxis\": \"x\", \"y\": [24], \"yaxis\": \"y\", \"type\": \"scatter\"}], \"name\": \"2018-03-24\"}, {\"data\": [{\"hoverlabel\": {\"namelength\": 0}, \"hovertemplate\": \"name=amy<br>date=2018-03-26<br>activity=%{x}<br>time=%{y}\", \"legendgroup\": \"name=amy\", \"marker\": {\"color\": \"#636efa\", \"symbol\": \"circle\"}, \"mode\": \"markers\", \"name\": \"name=amy\", \"showlegend\": true, \"x\": [\"cben\", \"i\", \"tprinter\"], \"xaxis\": \"x\", \"y\": [8, 27, 2], \"yaxis\": \"y\", \"type\": \"scatter\"}], \"name\": \"2018-03-26\"}, {\"data\": [{\"hoverlabel\": {\"namelength\": 0}, \"hovertemplate\": \"name=amy<br>date=2018-04-03<br>activity=%{x}<br>time=%{y}\", \"legendgroup\": \"name=amy\", \"marker\": {\"color\": \"#636efa\", \"symbol\": \"circle\"}, \"mode\": \"markers\", \"name\": \"name=amy\", \"showlegend\": true, \"x\": [\"i\", \"tprinter\"], \"xaxis\": \"x\", \"y\": [515, 3], \"yaxis\": \"y\", \"type\": \"scatter\"}, {\"hoverlabel\": {\"namelength\": 0}, \"hovertemplate\": \"name=zoe<br>date=2018-04-03<br>activity=%{x}<br>time=%{y}\", \"legendgroup\": \"name=zoe\", \"marker\": {\"color\": \"#EF553B\", \"symbol\": \"circle\"}, \"mode\": \"markers\", \"name\": \"name=zoe\", \"showlegend\": true, \"x\": [\"cben\", \"i\", \"tprinter\"], \"xaxis\": \"x2\", \"y\": [13, 39, 1], \"yaxis\": \"y\", \"type\": \"scatter\"}], \"name\": \"2018-04-03\"}, {\"data\": [{\"hoverlabel\": {\"namelength\": 0}, \"hovertemplate\": \"name=amy<br>date=2018-04-08<br>activity=%{x}<br>time=%{y}\", \"legendgroup\": \"name=amy\", \"marker\": {\"color\": \"#636efa\", \"symbol\": \"circle\"}, \"mode\": \"markers\", \"name\": \"name=amy\", \"showlegend\": true, \"x\": [\"cben\", \"csue\", \"i\"], \"xaxis\": \"x\", \"y\": [1, 2, 64], \"yaxis\": \"y\", \"type\": \"scatter\"}], \"name\": \"2018-04-08\"}, {\"data\": [{\"hoverlabel\": {\"namelength\": 0}, \"hovertemplate\": \"name=amy<br>date=2018-04-09<br>activity=%{x}<br>time=%{y}\", \"legendgroup\": \"name=amy\", \"marker\": {\"color\": \"#636efa\", \"symbol\": \"circle\"}, \"mode\": \"markers\", \"name\": \"name=amy\", \"showlegend\": true, \"x\": [\"i\"], \"xaxis\": \"x\", \"y\": [1], \"yaxis\": \"y\", \"type\": \"scatter\"}, {\"hoverlabel\": {\"namelength\": 0}, \"hovertemplate\": \"name=zoe<br>date=2018-04-09<br>activity=%{x}<br>time=%{y}\", \"legendgroup\": \"name=zoe\", \"marker\": {\"color\": \"#EF553B\", \"symbol\": \"circle\"}, \"mode\": \"markers\", \"name\": \"name=zoe\", \"showlegend\": true, \"x\": [\"cben\", \"i\"], \"xaxis\": \"x2\", \"y\": [15, 60], \"yaxis\": \"y\", \"type\": \"scatter\"}], \"name\": \"2018-04-09\"}, {\"data\": [{\"hoverlabel\": {\"namelength\": 0}, \"hovertemplate\": \"name=amy<br>date=2018-04-10<br>activity=%{x}<br>time=%{y}\", \"legendgroup\": \"name=amy\", \"marker\": {\"color\": \"#636efa\", \"symbol\": \"circle\"}, \"mode\": \"markers\", \"name\": \"name=amy\", \"showlegend\": true, \"x\": [\"cben\", \"csue\", \"i\", \"tprinter\"], \"xaxis\": \"x\", \"y\": [2, 2, 144, 2], \"yaxis\": \"y\", \"type\": \"scatter\"}, {\"hoverlabel\": {\"namelength\": 0}, \"hovertemplate\": \"name=zoe<br>date=2018-04-10<br>activity=%{x}<br>time=%{y}\", \"legendgroup\": \"name=zoe\", \"marker\": {\"color\": \"#EF553B\", \"symbol\": \"circle\"}, \"mode\": \"markers\", \"name\": \"name=zoe\", \"showlegend\": true, \"x\": [\"cben\", \"i\"], \"xaxis\": \"x2\", \"y\": [8, 42], \"yaxis\": \"y\", \"type\": \"scatter\"}], \"name\": \"2018-04-10\"}, {\"data\": [{\"hoverlabel\": {\"namelength\": 0}, \"hovertemplate\": \"name=amy<br>date=2018-04-13<br>activity=%{x}<br>time=%{y}\", \"legendgroup\": \"name=amy\", \"marker\": {\"color\": \"#636efa\", \"symbol\": \"circle\"}, \"mode\": \"markers\", \"name\": \"name=amy\", \"showlegend\": true, \"x\": [\"cben\", \"i\", \"tprinter\"], \"xaxis\": \"x\", \"y\": [1, 57, 1], \"yaxis\": \"y\", \"type\": \"scatter\"}, {\"hoverlabel\": {\"namelength\": 0}, \"hovertemplate\": \"name=zoe<br>date=2018-04-13<br>activity=%{x}<br>time=%{y}\", \"legendgroup\": \"name=zoe\", \"marker\": {\"color\": \"#EF553B\", \"symbol\": \"circle\"}, \"mode\": \"markers\", \"name\": \"name=zoe\", \"showlegend\": true, \"x\": [\"i\"], \"xaxis\": \"x2\", \"y\": [21], \"yaxis\": \"y\", \"type\": \"scatter\"}], \"name\": \"2018-04-13\"}, {\"data\": [{\"hoverlabel\": {\"namelength\": 0}, \"hovertemplate\": \"name=amy<br>date=2018-04-14<br>activity=%{x}<br>time=%{y}\", \"legendgroup\": \"name=amy\", \"marker\": {\"color\": \"#636efa\", \"symbol\": \"circle\"}, \"mode\": \"markers\", \"name\": \"name=amy\", \"showlegend\": true, \"x\": [\"i\"], \"xaxis\": \"x\", \"y\": [3], \"yaxis\": \"y\", \"type\": \"scatter\"}, {\"hoverlabel\": {\"namelength\": 0}, \"hovertemplate\": \"name=zoe<br>date=2018-04-14<br>activity=%{x}<br>time=%{y}\", \"legendgroup\": \"name=zoe\", \"marker\": {\"color\": \"#EF553B\", \"symbol\": \"circle\"}, \"mode\": \"markers\", \"name\": \"name=zoe\", \"showlegend\": true, \"x\": [\"i\"], \"xaxis\": \"x2\", \"y\": [2], \"yaxis\": \"y\", \"type\": \"scatter\"}], \"name\": \"2018-04-14\"}, {\"data\": [{\"hoverlabel\": {\"namelength\": 0}, \"hovertemplate\": \"name=amy<br>date=2018-04-15<br>activity=%{x}<br>time=%{y}\", \"legendgroup\": \"name=amy\", \"marker\": {\"color\": \"#636efa\", \"symbol\": \"circle\"}, \"mode\": \"markers\", \"name\": \"name=amy\", \"showlegend\": true, \"x\": [\"i\", \"tprinter\"], \"xaxis\": \"x\", \"y\": [58, 7], \"yaxis\": \"y\", \"type\": \"scatter\"}, {\"hoverlabel\": {\"namelength\": 0}, \"hovertemplate\": \"name=zoe<br>date=2018-04-15<br>activity=%{x}<br>time=%{y}\", \"legendgroup\": \"name=zoe\", \"marker\": {\"color\": \"#EF553B\", \"symbol\": \"circle\"}, \"mode\": \"markers\", \"name\": \"name=zoe\", \"showlegend\": true, \"x\": [\"i\"], \"xaxis\": \"x2\", \"y\": [5], \"yaxis\": \"y\", \"type\": \"scatter\"}], \"name\": \"2018-04-15\"}, {\"data\": [{\"hoverlabel\": {\"namelength\": 0}, \"hovertemplate\": \"name=amy<br>date=2018-04-16<br>activity=%{x}<br>time=%{y}\", \"legendgroup\": \"name=amy\", \"marker\": {\"color\": \"#636efa\", \"symbol\": \"circle\"}, \"mode\": \"markers\", \"name\": \"name=amy\", \"showlegend\": true, \"x\": [\"i\", \"tprinter\"], \"xaxis\": \"x\", \"y\": [52, 2], \"yaxis\": \"y\", \"type\": \"scatter\"}, {\"hoverlabel\": {\"namelength\": 0}, \"hovertemplate\": \"name=zoe<br>date=2018-04-16<br>activity=%{x}<br>time=%{y}\", \"legendgroup\": \"name=zoe\", \"marker\": {\"color\": \"#EF553B\", \"symbol\": \"circle\"}, \"mode\": \"markers\", \"name\": \"name=zoe\", \"showlegend\": true, \"x\": [\"i\"], \"xaxis\": \"x2\", \"y\": [14], \"yaxis\": \"y\", \"type\": \"scatter\"}], \"name\": \"2018-04-16\"}, {\"data\": [{\"hoverlabel\": {\"namelength\": 0}, \"hovertemplate\": \"name=amy<br>date=2018-04-17<br>activity=%{x}<br>time=%{y}\", \"legendgroup\": \"name=amy\", \"marker\": {\"color\": \"#636efa\", \"symbol\": \"circle\"}, \"mode\": \"markers\", \"name\": \"name=amy\", \"showlegend\": true, \"x\": [\"i\"], \"xaxis\": \"x\", \"y\": [24], \"yaxis\": \"y\", \"type\": \"scatter\"}, {\"hoverlabel\": {\"namelength\": 0}, \"hovertemplate\": \"name=zoe<br>date=2018-04-17<br>activity=%{x}<br>time=%{y}\", \"legendgroup\": \"name=zoe\", \"marker\": {\"color\": \"#EF553B\", \"symbol\": \"circle\"}, \"mode\": \"markers\", \"name\": \"name=zoe\", \"showlegend\": true, \"x\": [\"i\"], \"xaxis\": \"x2\", \"y\": [27], \"yaxis\": \"y\", \"type\": \"scatter\"}], \"name\": \"2018-04-17\"}, {\"data\": [{\"hoverlabel\": {\"namelength\": 0}, \"hovertemplate\": \"name=amy<br>date=2018-04-21<br>activity=%{x}<br>time=%{y}\", \"legendgroup\": \"name=amy\", \"marker\": {\"color\": \"#636efa\", \"symbol\": \"circle\"}, \"mode\": \"markers\", \"name\": \"name=amy\", \"showlegend\": true, \"x\": [\"i\", \"tprinter\"], \"xaxis\": \"x\", \"y\": [4, 1], \"yaxis\": \"y\", \"type\": \"scatter\"}, {\"hoverlabel\": {\"namelength\": 0}, \"hovertemplate\": \"name=zoe<br>date=2018-04-21<br>activity=%{x}<br>time=%{y}\", \"legendgroup\": \"name=zoe\", \"marker\": {\"color\": \"#EF553B\", \"symbol\": \"circle\"}, \"mode\": \"markers\", \"name\": \"name=zoe\", \"showlegend\": true, \"x\": [\"i\"], \"xaxis\": \"x2\", \"y\": [2], \"yaxis\": \"y\", \"type\": \"scatter\"}], \"name\": \"2018-04-21\"}, {\"data\": [{\"hoverlabel\": {\"namelength\": 0}, \"hovertemplate\": \"name=amy<br>date=2018-04-24<br>activity=%{x}<br>time=%{y}\", \"legendgroup\": \"name=amy\", \"marker\": {\"color\": \"#636efa\", \"symbol\": \"circle\"}, \"mode\": \"markers\", \"name\": \"name=amy\", \"showlegend\": true, \"x\": [\"cben\", \"i\", \"tprinter\"], \"xaxis\": \"x\", \"y\": [1, 195, 3], \"yaxis\": \"y\", \"type\": \"scatter\"}, {\"hoverlabel\": {\"namelength\": 0}, \"hovertemplate\": \"name=zoe<br>date=2018-04-24<br>activity=%{x}<br>time=%{y}\", \"legendgroup\": \"name=zoe\", \"marker\": {\"color\": \"#EF553B\", \"symbol\": \"circle\"}, \"mode\": \"markers\", \"name\": \"name=zoe\", \"showlegend\": true, \"x\": [\"cben\", \"i\"], \"xaxis\": \"x2\", \"y\": [8, 27], \"yaxis\": \"y\", \"type\": \"scatter\"}], \"name\": \"2018-04-24\"}, {\"data\": [{\"hoverlabel\": {\"namelength\": 0}, \"hovertemplate\": \"name=amy<br>date=2018-04-25<br>activity=%{x}<br>time=%{y}\", \"legendgroup\": \"name=amy\", \"marker\": {\"color\": \"#636efa\", \"symbol\": \"circle\"}, \"mode\": \"markers\", \"name\": \"name=amy\", \"showlegend\": true, \"x\": [\"i\"], \"xaxis\": \"x\", \"y\": [1], \"yaxis\": \"y\", \"type\": \"scatter\"}], \"name\": \"2018-04-25\"}, {\"data\": [{\"hoverlabel\": {\"namelength\": 0}, \"hovertemplate\": \"name=zoe<br>date=2018-02-02<br>activity=%{x}<br>time=%{y}\", \"legendgroup\": \"name=zoe\", \"marker\": {\"color\": \"#EF553B\", \"symbol\": \"circle\"}, \"mode\": \"markers\", \"name\": \"name=zoe\", \"showlegend\": true, \"x\": [\"i\"], \"xaxis\": \"x2\", \"y\": [117], \"yaxis\": \"y\", \"type\": \"scatter\"}], \"name\": \"2018-02-02\"}, {\"data\": [{\"hoverlabel\": {\"namelength\": 0}, \"hovertemplate\": \"name=zoe<br>date=2018-02-03<br>activity=%{x}<br>time=%{y}\", \"legendgroup\": \"name=zoe\", \"marker\": {\"color\": \"#EF553B\", \"symbol\": \"circle\"}, \"mode\": \"markers\", \"name\": \"name=zoe\", \"showlegend\": true, \"x\": [\"i\"], \"xaxis\": \"x2\", \"y\": [64], \"yaxis\": \"y\", \"type\": \"scatter\"}], \"name\": \"2018-02-03\"}, {\"data\": [{\"hoverlabel\": {\"namelength\": 0}, \"hovertemplate\": \"name=zoe<br>date=2018-02-07<br>activity=%{x}<br>time=%{y}\", \"legendgroup\": \"name=zoe\", \"marker\": {\"color\": \"#EF553B\", \"symbol\": \"circle\"}, \"mode\": \"markers\", \"name\": \"name=zoe\", \"showlegend\": true, \"x\": [\"i\"], \"xaxis\": \"x2\", \"y\": [5], \"yaxis\": \"y\", \"type\": \"scatter\"}], \"name\": \"2018-02-07\"}, {\"data\": [{\"hoverlabel\": {\"namelength\": 0}, \"hovertemplate\": \"name=zoe<br>date=2018-02-09<br>activity=%{x}<br>time=%{y}\", \"legendgroup\": \"name=zoe\", \"marker\": {\"color\": \"#EF553B\", \"symbol\": \"circle\"}, \"mode\": \"markers\", \"name\": \"name=zoe\", \"showlegend\": true, \"x\": [\"i\"], \"xaxis\": \"x2\", \"y\": [4], \"yaxis\": \"y\", \"type\": \"scatter\"}], \"name\": \"2018-02-09\"}, {\"data\": [{\"hoverlabel\": {\"namelength\": 0}, \"hovertemplate\": \"name=zoe<br>date=2018-02-11<br>activity=%{x}<br>time=%{y}\", \"legendgroup\": \"name=zoe\", \"marker\": {\"color\": \"#EF553B\", \"symbol\": \"circle\"}, \"mode\": \"markers\", \"name\": \"name=zoe\", \"showlegend\": true, \"x\": [\"i\"], \"xaxis\": \"x2\", \"y\": [4], \"yaxis\": \"y\", \"type\": \"scatter\"}], \"name\": \"2018-02-11\"}, {\"data\": [{\"hoverlabel\": {\"namelength\": 0}, \"hovertemplate\": \"name=zoe<br>date=2018-02-14<br>activity=%{x}<br>time=%{y}\", \"legendgroup\": \"name=zoe\", \"marker\": {\"color\": \"#EF553B\", \"symbol\": \"circle\"}, \"mode\": \"markers\", \"name\": \"name=zoe\", \"showlegend\": true, \"x\": [\"cben\", \"i\"], \"xaxis\": \"x2\", \"y\": [5, 65], \"yaxis\": \"y\", \"type\": \"scatter\"}], \"name\": \"2018-02-14\"}, {\"data\": [{\"hoverlabel\": {\"namelength\": 0}, \"hovertemplate\": \"name=zoe<br>date=2018-02-15<br>activity=%{x}<br>time=%{y}\", \"legendgroup\": \"name=zoe\", \"marker\": {\"color\": \"#EF553B\", \"symbol\": \"circle\"}, \"mode\": \"markers\", \"name\": \"name=zoe\", \"showlegend\": true, \"x\": [\"cben\", \"i\"], \"xaxis\": \"x2\", \"y\": [17, 44], \"yaxis\": \"y\", \"type\": \"scatter\"}], \"name\": \"2018-02-15\"}, {\"data\": [{\"hoverlabel\": {\"namelength\": 0}, \"hovertemplate\": \"name=zoe<br>date=2018-02-16<br>activity=%{x}<br>time=%{y}\", \"legendgroup\": \"name=zoe\", \"marker\": {\"color\": \"#EF553B\", \"symbol\": \"circle\"}, \"mode\": \"markers\", \"name\": \"name=zoe\", \"showlegend\": true, \"x\": [\"i\"], \"xaxis\": \"x2\", \"y\": [2], \"yaxis\": \"y\", \"type\": \"scatter\"}], \"name\": \"2018-02-16\"}, {\"data\": [{\"hoverlabel\": {\"namelength\": 0}, \"hovertemplate\": \"name=zoe<br>date=2018-02-17<br>activity=%{x}<br>time=%{y}\", \"legendgroup\": \"name=zoe\", \"marker\": {\"color\": \"#EF553B\", \"symbol\": \"circle\"}, \"mode\": \"markers\", \"name\": \"name=zoe\", \"showlegend\": true, \"x\": [\"i\"], \"xaxis\": \"x2\", \"y\": [2], \"yaxis\": \"y\", \"type\": \"scatter\"}], \"name\": \"2018-02-17\"}, {\"data\": [{\"hoverlabel\": {\"namelength\": 0}, \"hovertemplate\": \"name=zoe<br>date=2018-02-19<br>activity=%{x}<br>time=%{y}\", \"legendgroup\": \"name=zoe\", \"marker\": {\"color\": \"#EF553B\", \"symbol\": \"circle\"}, \"mode\": \"markers\", \"name\": \"name=zoe\", \"showlegend\": true, \"x\": [\"cben\", \"i\"], \"xaxis\": \"x2\", \"y\": [4, 8], \"yaxis\": \"y\", \"type\": \"scatter\"}], \"name\": \"2018-02-19\"}, {\"data\": [{\"hoverlabel\": {\"namelength\": 0}, \"hovertemplate\": \"name=zoe<br>date=2018-02-20<br>activity=%{x}<br>time=%{y}\", \"legendgroup\": \"name=zoe\", \"marker\": {\"color\": \"#EF553B\", \"symbol\": \"circle\"}, \"mode\": \"markers\", \"name\": \"name=zoe\", \"showlegend\": true, \"x\": [\"i\"], \"xaxis\": \"x2\", \"y\": [12], \"yaxis\": \"y\", \"type\": \"scatter\"}], \"name\": \"2018-02-20\"}, {\"data\": [{\"hoverlabel\": {\"namelength\": 0}, \"hovertemplate\": \"name=zoe<br>date=2018-02-21<br>activity=%{x}<br>time=%{y}\", \"legendgroup\": \"name=zoe\", \"marker\": {\"color\": \"#EF553B\", \"symbol\": \"circle\"}, \"mode\": \"markers\", \"name\": \"name=zoe\", \"showlegend\": true, \"x\": [\"i\"], \"xaxis\": \"x2\", \"y\": [4], \"yaxis\": \"y\", \"type\": \"scatter\"}], \"name\": \"2018-02-21\"}, {\"data\": [{\"hoverlabel\": {\"namelength\": 0}, \"hovertemplate\": \"name=zoe<br>date=2018-02-23<br>activity=%{x}<br>time=%{y}\", \"legendgroup\": \"name=zoe\", \"marker\": {\"color\": \"#EF553B\", \"symbol\": \"circle\"}, \"mode\": \"markers\", \"name\": \"name=zoe\", \"showlegend\": true, \"x\": [\"i\"], \"xaxis\": \"x2\", \"y\": [62], \"yaxis\": \"y\", \"type\": \"scatter\"}], \"name\": \"2018-02-23\"}, {\"data\": [{\"hoverlabel\": {\"namelength\": 0}, \"hovertemplate\": \"name=zoe<br>date=2018-02-25<br>activity=%{x}<br>time=%{y}\", \"legendgroup\": \"name=zoe\", \"marker\": {\"color\": \"#EF553B\", \"symbol\": \"circle\"}, \"mode\": \"markers\", \"name\": \"name=zoe\", \"showlegend\": true, \"x\": [\"i\"], \"xaxis\": \"x2\", \"y\": [4], \"yaxis\": \"y\", \"type\": \"scatter\"}], \"name\": \"2018-02-25\"}, {\"data\": [{\"hoverlabel\": {\"namelength\": 0}, \"hovertemplate\": \"name=zoe<br>date=2018-03-02<br>activity=%{x}<br>time=%{y}\", \"legendgroup\": \"name=zoe\", \"marker\": {\"color\": \"#EF553B\", \"symbol\": \"circle\"}, \"mode\": \"markers\", \"name\": \"name=zoe\", \"showlegend\": true, \"x\": [\"cben\", \"i\", \"tprinter\"], \"xaxis\": \"x2\", \"y\": [10, 149, 1], \"yaxis\": \"y\", \"type\": \"scatter\"}], \"name\": \"2018-03-02\"}, {\"data\": [{\"hoverlabel\": {\"namelength\": 0}, \"hovertemplate\": \"name=zoe<br>date=2018-03-03<br>activity=%{x}<br>time=%{y}\", \"legendgroup\": \"name=zoe\", \"marker\": {\"color\": \"#EF553B\", \"symbol\": \"circle\"}, \"mode\": \"markers\", \"name\": \"name=zoe\", \"showlegend\": true, \"x\": [\"cben\", \"i\"], \"xaxis\": \"x2\", \"y\": [2, 170], \"yaxis\": \"y\", \"type\": \"scatter\"}], \"name\": \"2018-03-03\"}, {\"data\": [{\"hoverlabel\": {\"namelength\": 0}, \"hovertemplate\": \"name=zoe<br>date=2018-03-04<br>activity=%{x}<br>time=%{y}\", \"legendgroup\": \"name=zoe\", \"marker\": {\"color\": \"#EF553B\", \"symbol\": \"circle\"}, \"mode\": \"markers\", \"name\": \"name=zoe\", \"showlegend\": true, \"x\": [\"i\"], \"xaxis\": \"x2\", \"y\": [3], \"yaxis\": \"y\", \"type\": \"scatter\"}], \"name\": \"2018-03-04\"}, {\"data\": [{\"hoverlabel\": {\"namelength\": 0}, \"hovertemplate\": \"name=zoe<br>date=2018-03-30<br>activity=%{x}<br>time=%{y}\", \"legendgroup\": \"name=zoe\", \"marker\": {\"color\": \"#EF553B\", \"symbol\": \"circle\"}, \"mode\": \"markers\", \"name\": \"name=zoe\", \"showlegend\": true, \"x\": [\"i\"], \"xaxis\": \"x2\", \"y\": [157], \"yaxis\": \"y\", \"type\": \"scatter\"}], \"name\": \"2018-03-30\"}, {\"data\": [{\"hoverlabel\": {\"namelength\": 0}, \"hovertemplate\": \"name=zoe<br>date=2018-04-02<br>activity=%{x}<br>time=%{y}\", \"legendgroup\": \"name=zoe\", \"marker\": {\"color\": \"#EF553B\", \"symbol\": \"circle\"}, \"mode\": \"markers\", \"name\": \"name=zoe\", \"showlegend\": true, \"x\": [\"i\"], \"xaxis\": \"x2\", \"y\": [21], \"yaxis\": \"y\", \"type\": \"scatter\"}], \"name\": \"2018-04-02\"}, {\"data\": [{\"hoverlabel\": {\"namelength\": 0}, \"hovertemplate\": \"name=zoe<br>date=2018-04-04<br>activity=%{x}<br>time=%{y}\", \"legendgroup\": \"name=zoe\", \"marker\": {\"color\": \"#EF553B\", \"symbol\": \"circle\"}, \"mode\": \"markers\", \"name\": \"name=zoe\", \"showlegend\": true, \"x\": [\"cben\", \"i\"], \"xaxis\": \"x2\", \"y\": [14, 16], \"yaxis\": \"y\", \"type\": \"scatter\"}], \"name\": \"2018-04-04\"}, {\"data\": [{\"hoverlabel\": {\"namelength\": 0}, \"hovertemplate\": \"name=zoe<br>date=2018-04-06<br>activity=%{x}<br>time=%{y}\", \"legendgroup\": \"name=zoe\", \"marker\": {\"color\": \"#EF553B\", \"symbol\": \"circle\"}, \"mode\": \"markers\", \"name\": \"name=zoe\", \"showlegend\": true, \"x\": [\"cben\", \"csue\", \"i\", \"tprinter\"], \"xaxis\": \"x2\", \"y\": [9, 1, 84, 1], \"yaxis\": \"y\", \"type\": \"scatter\"}], \"name\": \"2018-04-06\"}, {\"data\": [{\"hoverlabel\": {\"namelength\": 0}, \"hovertemplate\": \"name=zoe<br>date=2018-04-11<br>activity=%{x}<br>time=%{y}\", \"legendgroup\": \"name=zoe\", \"marker\": {\"color\": \"#EF553B\", \"symbol\": \"circle\"}, \"mode\": \"markers\", \"name\": \"name=zoe\", \"showlegend\": true, \"x\": [\"i\"], \"xaxis\": \"x2\", \"y\": [8], \"yaxis\": \"y\", \"type\": \"scatter\"}], \"name\": \"2018-04-11\"}, {\"data\": [{\"hoverlabel\": {\"namelength\": 0}, \"hovertemplate\": \"name=zoe<br>date=2018-04-19<br>activity=%{x}<br>time=%{y}\", \"legendgroup\": \"name=zoe\", \"marker\": {\"color\": \"#EF553B\", \"symbol\": \"circle\"}, \"mode\": \"markers\", \"name\": \"name=zoe\", \"showlegend\": true, \"x\": [\"i\"], \"xaxis\": \"x2\", \"y\": [68], \"yaxis\": \"y\", \"type\": \"scatter\"}], \"name\": \"2018-04-19\"}, {\"data\": [{\"hoverlabel\": {\"namelength\": 0}, \"hovertemplate\": \"name=zoe<br>date=2018-04-23<br>activity=%{x}<br>time=%{y}\", \"legendgroup\": \"name=zoe\", \"marker\": {\"color\": \"#EF553B\", \"symbol\": \"circle\"}, \"mode\": \"markers\", \"name\": \"name=zoe\", \"showlegend\": true, \"x\": [\"i\"], \"xaxis\": \"x2\", \"y\": [4], \"yaxis\": \"y\", \"type\": \"scatter\"}], \"name\": \"2018-04-23\"}]);\n",
       "                        }).then(function(){\n",
       "                            \n",
       "var gd = document.getElementById('a20b554a-ba89-4283-aeae-a410a543044e');\n",
       "var x = new MutationObserver(function (mutations, observer) {{\n",
       "        var display = window.getComputedStyle(gd).display;\n",
       "        if (!display || display === 'none') {{\n",
       "            console.log([gd, 'removed!']);\n",
       "            Plotly.purge(gd);\n",
       "            observer.disconnect();\n",
       "        }}\n",
       "}});\n",
       "\n",
       "// Listen for the removal of the full notebook cells\n",
       "var notebookContainer = gd.closest('#notebook-container');\n",
       "if (notebookContainer) {{\n",
       "    x.observe(notebookContainer, {childList: true});\n",
       "}}\n",
       "\n",
       "// Listen for the clearing of the current output cell\n",
       "var outputEl = gd.closest('.output');\n",
       "if (outputEl) {{\n",
       "    x.observe(outputEl, {childList: true});\n",
       "}}\n",
       "\n",
       "                        })\n",
       "                };\n",
       "                });\n",
       "            </script>\n",
       "        </div>"
      ]
     },
     "metadata": {},
     "output_type": "display_data"
    }
   ],
   "source": [
    "# Interactive Scatter\n",
    "\n",
    "import plotly_express as px\n",
    "\n",
    "df_scatter = pd.concat([df_plot.loc[df_plot['name'] == 'amy'],df_plot.loc[df_plot['name'] == 'zoe']],ignore_index=True)\n",
    "\n",
    "px.scatter(df_scatter, x=\"activity\", y=\"time\", animation_frame=\"date\", color=\"name\", facet_col=\"name\")\n"
   ]
  },
  {
   "cell_type": "code",
   "execution_count": null,
   "metadata": {},
   "outputs": [],
   "source": []
  }
 ],
 "metadata": {
  "kernelspec": {
   "display_name": "Python 3",
   "language": "python",
   "name": "python3"
  },
  "language_info": {
   "codemirror_mode": {
    "name": "ipython",
    "version": 3
   },
   "file_extension": ".py",
   "mimetype": "text/x-python",
   "name": "python",
   "nbconvert_exporter": "python",
   "pygments_lexer": "ipython3",
   "version": "3.7.1"
  },
  "toc": {
   "base_numbering": 1,
   "nav_menu": {},
   "number_sections": true,
   "sideBar": true,
   "skip_h1_title": false,
   "title_cell": "Table of Contents",
   "title_sidebar": "Contents",
   "toc_cell": false,
   "toc_position": {},
   "toc_section_display": true,
   "toc_window_display": false
  },
  "varInspector": {
   "cols": {
    "lenName": 16,
    "lenType": 16,
    "lenVar": 40
   },
   "kernels_config": {
    "python": {
     "delete_cmd_postfix": "",
     "delete_cmd_prefix": "del ",
     "library": "var_list.py",
     "varRefreshCmd": "print(var_dic_list())"
    },
    "r": {
     "delete_cmd_postfix": ") ",
     "delete_cmd_prefix": "rm(",
     "library": "var_list.r",
     "varRefreshCmd": "cat(var_dic_list()) "
    }
   },
   "types_to_exclude": [
    "module",
    "function",
    "builtin_function_or_method",
    "instance",
    "_Feature"
   ],
   "window_display": false
  }
 },
 "nbformat": 4,
 "nbformat_minor": 2
}
