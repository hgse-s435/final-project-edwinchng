{
 "cells": [
  {
   "cell_type": "markdown",
   "metadata": {},
   "source": [
    "# Final Project"
   ]
  },
  {
   "cell_type": "markdown",
   "metadata": {},
   "source": [
    "## Framing"
   ]
  },
  {
   "cell_type": "markdown",
   "metadata": {},
   "source": [
    "**Introduction**: describe your dataset, and why you're interested in it\n",
    "\n",
    "In this dataset, Kinect sensors captured students' body postures, location, and gestures in a makerspace over the period of a 13-weeks semester, recording nearly half a million observations from 16 students enrolled in a class. \n",
    "\n",
    "I am interested in this dataset because I am currently involved in the next iteration of the Makerspace project and it would be good to gain more familiarity with the dataset by analyzing it in this final project. "
   ]
  },
  {
   "cell_type": "markdown",
   "metadata": {},
   "source": [
    "**Research question(s)**: describe the overall research question of your project\n",
    "\n",
    "Can we generate “profiles” (or personas) for students, based on their behavior in the space?"
   ]
  },
  {
   "cell_type": "markdown",
   "metadata": {},
   "source": [
    "**Hypotheses**:\n",
    "    * Describe 2-3 hypotheses that you're planning to test with your dataset\n",
    "    * Each hypoteses should be based on academic research (cite a paper) and/or background knowledge that you have about the dataset if you've collected it yourself (e.g., if you've conducted interviews)\n",
    "    * Each hypotheses should be formulated as an affirmation (and not a question)\n",
    "    * You can also describe alternative hypotheses, if you think that your results could go either way (but again, have a rationale as for why)\n",
    "\n",
    "    \n",
    "**Hypothesis 1**\n",
    "Higher velocity movements are correlated with personality traits such as extraversion and openness. \n",
    "\n",
    "**Hypothesis 2**\n",
    "Students who lean towards their partners when collaborating within the makerspace correlates more with the personality trait of agreebleness, while students who lean away correlates more with neuroticism. \n",
    "\n",
    "\n",
    "**Papers**\n",
    "Wache, J. (2014) The secret language of our body - Affect and personality recognition using physiological signals. In Proceedings of the 16th International Conference on Multimodal Interaction (pp. 389-393). ICMI \n",
    "\n",
    "McCrae, R.R. & John, O.P. (1992) An introduction to the five- factor model and its applications. Journal of personality 60(2), 175–215.\n",
    "\n",
    "Srivastava, R., Feng, J., Roy, S., Sim, T., and Yan, S. Don’t Ask Me What I’m Like, Just Watch and Listen. Proceedings of the 20th ACM international conference on Multimedia. ACM, 2012., (2012), 329–338.\n"
   ]
  },
  {
   "cell_type": "markdown",
   "metadata": {},
   "source": [
    "**Results**:\n",
    "    * how are you planning to test each hypothesis? What models are you thinking of using?\n",
    "I am planning to use clustering methods to group students based on the characteristics of the body movement (eg low or high velocity, lean towards or lean away) and use deep learning models to predict their personality traits.\n",
    "\n",
    "    * what are the best results you can hope for? Is that interesting / relevant for other researchers?\n",
    "The best results would be a strong correlation between the students' body language and personality traits. This would be interesting for other researchers as personality profiling could lead to other areas of research such as personalized interventions and quality of social interactions.\n",
    "\n",
    "    * what are implications of your potential findings for practioners? \n",
    "Personality traits could be inferred from body language data without the traditional use of surveys. This presents practioners a way of understanding their students to cater to their individual learning needs."
   ]
  },
  {
   "cell_type": "markdown",
   "metadata": {},
   "source": [
    "**Threads**\n",
    "    * Describe issues that might arise during the analyses above\n",
    "It might be possible that we may not derive clear clusters that separate the students or we may also be looking at the incorrect characteristics of the body movement to inform us of the personality traits.\n",
    "\n",
    "    * Come up with backup plans in case you run into theses issues\n",
    "Think of alternative characteristics of the students' body movement or allow the models to uncover the relevant characteristics without making any prior assumptions."
   ]
  },
  {
   "cell_type": "markdown",
   "metadata": {},
   "source": [
    "## Data Exploration"
   ]
  },
  {
   "cell_type": "markdown",
   "metadata": {},
   "source": [
    "Describe your raw data below; provide definition / explanations for the measures you're using\n",
    "\n",
    "The raw data consists of student information (eg person_id, name), skeletal joint data, facial expressions (eg isSmiling) and collection information (eg timestamp, kinect_id). For the purpose of this investigation, we will drop information related to facial expressions as 1) these variables are dichotomous 2) they contain a limited range of facial expressions."
   ]
  },
  {
   "cell_type": "markdown",
   "metadata": {},
   "source": [
    "## Data Cleaning"
   ]
  },
  {
   "cell_type": "markdown",
   "metadata": {},
   "source": [
    "Clean you data in this section, and make sure it's ready to be analyzed for next week!"
   ]
  },
  {
   "cell_type": "code",
   "execution_count": 1,
   "metadata": {},
   "outputs": [
    {
     "name": "stdout",
     "output_type": "stream",
     "text": [
      "['6.csv', '7.csv', '5.csv', '4.csv', '3.csv', '2.csv', '10.csv', '11.csv', '13.csv', '12.csv', '9.csv']\n"
     ]
    }
   ],
   "source": [
    "import os\n",
    "\n",
    "files = []\n",
    "\n",
    "for file in os.listdir('./dataset'):\n",
    "    if file.endswith('.csv'):\n",
    "        files.append(file)\n",
    "\n",
    "print(files)"
   ]
  },
  {
   "cell_type": "code",
   "execution_count": 2,
   "metadata": {},
   "outputs": [
    {
     "data": {
      "text/plain": [
       "['.DS_Store',\n",
       " 'dataset',\n",
       " 'data_cleaned',\n",
       " 'Wee9-Final-Project.ipynb',\n",
       " '.ipynb_checkpoints',\n",
       " '.git']"
      ]
     },
     "execution_count": 2,
     "metadata": {},
     "output_type": "execute_result"
    }
   ],
   "source": [
    "os.mkdir('./data_cleaned')\n",
    "os.listdir('./')"
   ]
  },
  {
   "cell_type": "code",
   "execution_count": 3,
   "metadata": {},
   "outputs": [
    {
     "name": "stdout",
     "output_type": "stream",
     "text": [
      "['6.csv', '7.csv', '5.csv', '4.csv', '3.csv', '2.csv', '10.csv', '11.csv', '13.csv', '12.csv', '9.csv']\n"
     ]
    }
   ],
   "source": [
    "import pandas as pd\n",
    "\n",
    "for file in os.listdir('./dataset'):\n",
    "    if file.endswith('.csv'):\n",
    "        file_input = os.path.join('./dataset',file)\n",
    "        df = pd.read_csv(file_input,parse_dates=True,index_col='timestamp')\n",
    "        cleaned = df.drop([df.columns[0],'name_aga_conf','confidence_value','name_aga_freq','frequency','freq_count',\n",
    "                           'isTalking','isWearingGlasses','isSmiling','leftHandRaised','rightHandRaised',\n",
    "                           'ip','et_timestamp','skeleton','face_detected'], axis=1)\n",
    "        cleaned.dropna(inplace=True)\n",
    "        file_output = os.path.join('./data_cleaned',file)\n",
    "        cleaned.to_csv(file_output)\n",
    "        \n",
    "print(os.listdir('./data_cleaned'))"
   ]
  }
 ],
 "metadata": {
  "kernelspec": {
   "display_name": "Python 3",
   "language": "python",
   "name": "python3"
  },
  "language_info": {
   "codemirror_mode": {
    "name": "ipython",
    "version": 3
   },
   "file_extension": ".py",
   "mimetype": "text/x-python",
   "name": "python",
   "nbconvert_exporter": "python",
   "pygments_lexer": "ipython3",
   "version": "3.7.1"
  },
  "toc": {
   "base_numbering": 1,
   "nav_menu": {},
   "number_sections": true,
   "sideBar": true,
   "skip_h1_title": false,
   "title_cell": "Table of Contents",
   "title_sidebar": "Contents",
   "toc_cell": false,
   "toc_position": {},
   "toc_section_display": true,
   "toc_window_display": false
  },
  "varInspector": {
   "cols": {
    "lenName": 16,
    "lenType": 16,
    "lenVar": 40
   },
   "kernels_config": {
    "python": {
     "delete_cmd_postfix": "",
     "delete_cmd_prefix": "del ",
     "library": "var_list.py",
     "varRefreshCmd": "print(var_dic_list())"
    },
    "r": {
     "delete_cmd_postfix": ") ",
     "delete_cmd_prefix": "rm(",
     "library": "var_list.r",
     "varRefreshCmd": "cat(var_dic_list()) "
    }
   },
   "types_to_exclude": [
    "module",
    "function",
    "builtin_function_or_method",
    "instance",
    "_Feature"
   ],
   "window_display": false
  }
 },
 "nbformat": 4,
 "nbformat_minor": 2
}
